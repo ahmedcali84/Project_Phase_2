{
 "cells": [
  {
   "cell_type": "markdown",
   "metadata": {},
   "source": [
    "## Final Project Submission\n",
    "\n",
    "Please fill out:\n",
    "* Student name: Ahmed ali\n",
    "* Student pace:  full time\n",
    "* Scheduled project review date/time: Saturday\n",
    "* Instructor name: \n",
    "* Blog post URL:\n",
    "\n"
   ]
  },
  {
   "cell_type": "markdown",
   "metadata": {},
   "source": [
    "# Overview\n",
    "#### Project: Multiple linear regression modeling to analyze house sales and prices of King County, Washington."
   ]
  },
  {
   "cell_type": "markdown",
   "metadata": {},
   "source": [
    "## Objectives\n",
    "* Understanding the business\n",
    "* Define the Stakeholders\n",
    "* Define the Business Problem\n",
    "* Data Understanding\n",
    "* Data Exploration and Analysis\n",
    "* Data Preparation\n",
    "* Multiple Linear Regression modelling\n",
    "* Interpreting the Modellling\n",
    "* Testing the Assumptions made by Multiple Linear Regression"
   ]
  },
  {
   "cell_type": "markdown",
   "metadata": {},
   "source": [
    "## Business understanding\n",
    "##### Stakeholder : Customers who are looking into the King County for affordable houses"
   ]
  },
  {
   "cell_type": "markdown",
   "metadata": {},
   "source": [
    "##### Business Problem: Predicting the price of houses based on multiple features "
   ]
  },
  {
   "cell_type": "markdown",
   "metadata": {},
   "source": [
    "# Data Understanding"
   ]
  },
  {
   "cell_type": "markdown",
   "metadata": {},
   "source": [
    "The Data was collected from king County in Washington State, USA."
   ]
  },
  {
   "cell_type": "markdown",
   "metadata": {},
   "source": [
    "> Let's Load The dataset into a pandas DataFrame to understand its Properties."
   ]
  },
  {
   "cell_type": "code",
   "execution_count": 1,
   "metadata": {},
   "outputs": [
    {
     "name": "stderr",
     "output_type": "stream",
     "text": [
      "C:\\Users\\hp\\anaconda3\\envs\\learn-env\\lib\\site-packages\\statsmodels\\tsa\\base\\tsa_model.py:7: FutureWarning: pandas.Int64Index is deprecated and will be removed from pandas in a future version. Use pandas.Index with the appropriate dtype instead.\n",
      "  from pandas import (to_datetime, Int64Index, DatetimeIndex, Period,\n",
      "C:\\Users\\hp\\anaconda3\\envs\\learn-env\\lib\\site-packages\\statsmodels\\tsa\\base\\tsa_model.py:7: FutureWarning: pandas.Float64Index is deprecated and will be removed from pandas in a future version. Use pandas.Index with the appropriate dtype instead.\n",
      "  from pandas import (to_datetime, Int64Index, DatetimeIndex, Period,\n"
     ]
    }
   ],
   "source": [
    "# Importing Libraries\n",
    "import pandas as pd\n",
    "import numpy as np\n",
    "import matplotlib.pyplot as plt\n",
    "import seaborn as sns\n",
    "from scipy import stats\n",
    "%matplotlib inline\n",
    "import statsmodels.api as sm\n",
    "from statsmodels.graphics.regressionplots import plot_partregress_grid"
   ]
  },
  {
   "cell_type": "code",
   "execution_count": 2,
   "metadata": {},
   "outputs": [
    {
     "data": {
      "text/html": [
       "<div>\n",
       "<style scoped>\n",
       "    .dataframe tbody tr th:only-of-type {\n",
       "        vertical-align: middle;\n",
       "    }\n",
       "\n",
       "    .dataframe tbody tr th {\n",
       "        vertical-align: top;\n",
       "    }\n",
       "\n",
       "    .dataframe thead th {\n",
       "        text-align: right;\n",
       "    }\n",
       "</style>\n",
       "<table border=\"1\" class=\"dataframe\">\n",
       "  <thead>\n",
       "    <tr style=\"text-align: right;\">\n",
       "      <th></th>\n",
       "      <th>date</th>\n",
       "      <th>price</th>\n",
       "      <th>bedrooms</th>\n",
       "      <th>bathrooms</th>\n",
       "      <th>sqft_living</th>\n",
       "      <th>sqft_lot</th>\n",
       "      <th>floors</th>\n",
       "      <th>waterfront</th>\n",
       "      <th>view</th>\n",
       "      <th>condition</th>\n",
       "      <th>grade</th>\n",
       "      <th>sqft_above</th>\n",
       "      <th>sqft_basement</th>\n",
       "      <th>yr_built</th>\n",
       "      <th>yr_renovated</th>\n",
       "      <th>zipcode</th>\n",
       "      <th>lat</th>\n",
       "      <th>long</th>\n",
       "      <th>sqft_living15</th>\n",
       "      <th>sqft_lot15</th>\n",
       "    </tr>\n",
       "    <tr>\n",
       "      <th>id</th>\n",
       "      <th></th>\n",
       "      <th></th>\n",
       "      <th></th>\n",
       "      <th></th>\n",
       "      <th></th>\n",
       "      <th></th>\n",
       "      <th></th>\n",
       "      <th></th>\n",
       "      <th></th>\n",
       "      <th></th>\n",
       "      <th></th>\n",
       "      <th></th>\n",
       "      <th></th>\n",
       "      <th></th>\n",
       "      <th></th>\n",
       "      <th></th>\n",
       "      <th></th>\n",
       "      <th></th>\n",
       "      <th></th>\n",
       "      <th></th>\n",
       "    </tr>\n",
       "  </thead>\n",
       "  <tbody>\n",
       "    <tr>\n",
       "      <th>7129300520</th>\n",
       "      <td>10/13/2014</td>\n",
       "      <td>221900.0</td>\n",
       "      <td>3</td>\n",
       "      <td>1.00</td>\n",
       "      <td>1180</td>\n",
       "      <td>5650</td>\n",
       "      <td>1.0</td>\n",
       "      <td>NaN</td>\n",
       "      <td>NONE</td>\n",
       "      <td>Average</td>\n",
       "      <td>7 Average</td>\n",
       "      <td>1180</td>\n",
       "      <td>0.0</td>\n",
       "      <td>1955</td>\n",
       "      <td>0.0</td>\n",
       "      <td>98178</td>\n",
       "      <td>47.5112</td>\n",
       "      <td>-122.257</td>\n",
       "      <td>1340</td>\n",
       "      <td>5650</td>\n",
       "    </tr>\n",
       "    <tr>\n",
       "      <th>6414100192</th>\n",
       "      <td>12/9/2014</td>\n",
       "      <td>538000.0</td>\n",
       "      <td>3</td>\n",
       "      <td>2.25</td>\n",
       "      <td>2570</td>\n",
       "      <td>7242</td>\n",
       "      <td>2.0</td>\n",
       "      <td>NO</td>\n",
       "      <td>NONE</td>\n",
       "      <td>Average</td>\n",
       "      <td>7 Average</td>\n",
       "      <td>2170</td>\n",
       "      <td>400.0</td>\n",
       "      <td>1951</td>\n",
       "      <td>1991.0</td>\n",
       "      <td>98125</td>\n",
       "      <td>47.7210</td>\n",
       "      <td>-122.319</td>\n",
       "      <td>1690</td>\n",
       "      <td>7639</td>\n",
       "    </tr>\n",
       "    <tr>\n",
       "      <th>5631500400</th>\n",
       "      <td>2/25/2015</td>\n",
       "      <td>180000.0</td>\n",
       "      <td>2</td>\n",
       "      <td>1.00</td>\n",
       "      <td>770</td>\n",
       "      <td>10000</td>\n",
       "      <td>1.0</td>\n",
       "      <td>NO</td>\n",
       "      <td>NONE</td>\n",
       "      <td>Average</td>\n",
       "      <td>6 Low Average</td>\n",
       "      <td>770</td>\n",
       "      <td>0.0</td>\n",
       "      <td>1933</td>\n",
       "      <td>NaN</td>\n",
       "      <td>98028</td>\n",
       "      <td>47.7379</td>\n",
       "      <td>-122.233</td>\n",
       "      <td>2720</td>\n",
       "      <td>8062</td>\n",
       "    </tr>\n",
       "    <tr>\n",
       "      <th>2487200875</th>\n",
       "      <td>12/9/2014</td>\n",
       "      <td>604000.0</td>\n",
       "      <td>4</td>\n",
       "      <td>3.00</td>\n",
       "      <td>1960</td>\n",
       "      <td>5000</td>\n",
       "      <td>1.0</td>\n",
       "      <td>NO</td>\n",
       "      <td>NONE</td>\n",
       "      <td>Very Good</td>\n",
       "      <td>7 Average</td>\n",
       "      <td>1050</td>\n",
       "      <td>910.0</td>\n",
       "      <td>1965</td>\n",
       "      <td>0.0</td>\n",
       "      <td>98136</td>\n",
       "      <td>47.5208</td>\n",
       "      <td>-122.393</td>\n",
       "      <td>1360</td>\n",
       "      <td>5000</td>\n",
       "    </tr>\n",
       "    <tr>\n",
       "      <th>1954400510</th>\n",
       "      <td>2/18/2015</td>\n",
       "      <td>510000.0</td>\n",
       "      <td>3</td>\n",
       "      <td>2.00</td>\n",
       "      <td>1680</td>\n",
       "      <td>8080</td>\n",
       "      <td>1.0</td>\n",
       "      <td>NO</td>\n",
       "      <td>NONE</td>\n",
       "      <td>Average</td>\n",
       "      <td>8 Good</td>\n",
       "      <td>1680</td>\n",
       "      <td>0.0</td>\n",
       "      <td>1987</td>\n",
       "      <td>0.0</td>\n",
       "      <td>98074</td>\n",
       "      <td>47.6168</td>\n",
       "      <td>-122.045</td>\n",
       "      <td>1800</td>\n",
       "      <td>7503</td>\n",
       "    </tr>\n",
       "    <tr>\n",
       "      <th>...</th>\n",
       "      <td>...</td>\n",
       "      <td>...</td>\n",
       "      <td>...</td>\n",
       "      <td>...</td>\n",
       "      <td>...</td>\n",
       "      <td>...</td>\n",
       "      <td>...</td>\n",
       "      <td>...</td>\n",
       "      <td>...</td>\n",
       "      <td>...</td>\n",
       "      <td>...</td>\n",
       "      <td>...</td>\n",
       "      <td>...</td>\n",
       "      <td>...</td>\n",
       "      <td>...</td>\n",
       "      <td>...</td>\n",
       "      <td>...</td>\n",
       "      <td>...</td>\n",
       "      <td>...</td>\n",
       "      <td>...</td>\n",
       "    </tr>\n",
       "    <tr>\n",
       "      <th>263000018</th>\n",
       "      <td>5/21/2014</td>\n",
       "      <td>360000.0</td>\n",
       "      <td>3</td>\n",
       "      <td>2.50</td>\n",
       "      <td>1530</td>\n",
       "      <td>1131</td>\n",
       "      <td>3.0</td>\n",
       "      <td>NO</td>\n",
       "      <td>NONE</td>\n",
       "      <td>Average</td>\n",
       "      <td>8 Good</td>\n",
       "      <td>1530</td>\n",
       "      <td>0.0</td>\n",
       "      <td>2009</td>\n",
       "      <td>0.0</td>\n",
       "      <td>98103</td>\n",
       "      <td>47.6993</td>\n",
       "      <td>-122.346</td>\n",
       "      <td>1530</td>\n",
       "      <td>1509</td>\n",
       "    </tr>\n",
       "    <tr>\n",
       "      <th>6600060120</th>\n",
       "      <td>2/23/2015</td>\n",
       "      <td>400000.0</td>\n",
       "      <td>4</td>\n",
       "      <td>2.50</td>\n",
       "      <td>2310</td>\n",
       "      <td>5813</td>\n",
       "      <td>2.0</td>\n",
       "      <td>NO</td>\n",
       "      <td>NONE</td>\n",
       "      <td>Average</td>\n",
       "      <td>8 Good</td>\n",
       "      <td>2310</td>\n",
       "      <td>0.0</td>\n",
       "      <td>2014</td>\n",
       "      <td>0.0</td>\n",
       "      <td>98146</td>\n",
       "      <td>47.5107</td>\n",
       "      <td>-122.362</td>\n",
       "      <td>1830</td>\n",
       "      <td>7200</td>\n",
       "    </tr>\n",
       "    <tr>\n",
       "      <th>1523300141</th>\n",
       "      <td>6/23/2014</td>\n",
       "      <td>402101.0</td>\n",
       "      <td>2</td>\n",
       "      <td>0.75</td>\n",
       "      <td>1020</td>\n",
       "      <td>1350</td>\n",
       "      <td>2.0</td>\n",
       "      <td>NO</td>\n",
       "      <td>NONE</td>\n",
       "      <td>Average</td>\n",
       "      <td>7 Average</td>\n",
       "      <td>1020</td>\n",
       "      <td>0.0</td>\n",
       "      <td>2009</td>\n",
       "      <td>0.0</td>\n",
       "      <td>98144</td>\n",
       "      <td>47.5944</td>\n",
       "      <td>-122.299</td>\n",
       "      <td>1020</td>\n",
       "      <td>2007</td>\n",
       "    </tr>\n",
       "    <tr>\n",
       "      <th>291310100</th>\n",
       "      <td>1/16/2015</td>\n",
       "      <td>400000.0</td>\n",
       "      <td>3</td>\n",
       "      <td>2.50</td>\n",
       "      <td>1600</td>\n",
       "      <td>2388</td>\n",
       "      <td>2.0</td>\n",
       "      <td>NaN</td>\n",
       "      <td>NONE</td>\n",
       "      <td>Average</td>\n",
       "      <td>8 Good</td>\n",
       "      <td>1600</td>\n",
       "      <td>0.0</td>\n",
       "      <td>2004</td>\n",
       "      <td>0.0</td>\n",
       "      <td>98027</td>\n",
       "      <td>47.5345</td>\n",
       "      <td>-122.069</td>\n",
       "      <td>1410</td>\n",
       "      <td>1287</td>\n",
       "    </tr>\n",
       "    <tr>\n",
       "      <th>1523300157</th>\n",
       "      <td>10/15/2014</td>\n",
       "      <td>325000.0</td>\n",
       "      <td>2</td>\n",
       "      <td>0.75</td>\n",
       "      <td>1020</td>\n",
       "      <td>1076</td>\n",
       "      <td>2.0</td>\n",
       "      <td>NO</td>\n",
       "      <td>NONE</td>\n",
       "      <td>Average</td>\n",
       "      <td>7 Average</td>\n",
       "      <td>1020</td>\n",
       "      <td>0.0</td>\n",
       "      <td>2008</td>\n",
       "      <td>0.0</td>\n",
       "      <td>98144</td>\n",
       "      <td>47.5941</td>\n",
       "      <td>-122.299</td>\n",
       "      <td>1020</td>\n",
       "      <td>1357</td>\n",
       "    </tr>\n",
       "  </tbody>\n",
       "</table>\n",
       "<p>21597 rows × 20 columns</p>\n",
       "</div>"
      ],
      "text/plain": [
       "                  date     price  bedrooms  bathrooms  sqft_living  sqft_lot  \\\n",
       "id                                                                             \n",
       "7129300520  10/13/2014  221900.0         3       1.00         1180      5650   \n",
       "6414100192   12/9/2014  538000.0         3       2.25         2570      7242   \n",
       "5631500400   2/25/2015  180000.0         2       1.00          770     10000   \n",
       "2487200875   12/9/2014  604000.0         4       3.00         1960      5000   \n",
       "1954400510   2/18/2015  510000.0         3       2.00         1680      8080   \n",
       "...                ...       ...       ...        ...          ...       ...   \n",
       "263000018    5/21/2014  360000.0         3       2.50         1530      1131   \n",
       "6600060120   2/23/2015  400000.0         4       2.50         2310      5813   \n",
       "1523300141   6/23/2014  402101.0         2       0.75         1020      1350   \n",
       "291310100    1/16/2015  400000.0         3       2.50         1600      2388   \n",
       "1523300157  10/15/2014  325000.0         2       0.75         1020      1076   \n",
       "\n",
       "            floors waterfront  view  condition          grade  sqft_above  \\\n",
       "id                                                                          \n",
       "7129300520     1.0        NaN  NONE    Average      7 Average        1180   \n",
       "6414100192     2.0         NO  NONE    Average      7 Average        2170   \n",
       "5631500400     1.0         NO  NONE    Average  6 Low Average         770   \n",
       "2487200875     1.0         NO  NONE  Very Good      7 Average        1050   \n",
       "1954400510     1.0         NO  NONE    Average         8 Good        1680   \n",
       "...            ...        ...   ...        ...            ...         ...   \n",
       "263000018      3.0         NO  NONE    Average         8 Good        1530   \n",
       "6600060120     2.0         NO  NONE    Average         8 Good        2310   \n",
       "1523300141     2.0         NO  NONE    Average      7 Average        1020   \n",
       "291310100      2.0        NaN  NONE    Average         8 Good        1600   \n",
       "1523300157     2.0         NO  NONE    Average      7 Average        1020   \n",
       "\n",
       "           sqft_basement  yr_built  yr_renovated  zipcode      lat     long  \\\n",
       "id                                                                            \n",
       "7129300520           0.0      1955           0.0    98178  47.5112 -122.257   \n",
       "6414100192         400.0      1951        1991.0    98125  47.7210 -122.319   \n",
       "5631500400           0.0      1933           NaN    98028  47.7379 -122.233   \n",
       "2487200875         910.0      1965           0.0    98136  47.5208 -122.393   \n",
       "1954400510           0.0      1987           0.0    98074  47.6168 -122.045   \n",
       "...                  ...       ...           ...      ...      ...      ...   \n",
       "263000018            0.0      2009           0.0    98103  47.6993 -122.346   \n",
       "6600060120           0.0      2014           0.0    98146  47.5107 -122.362   \n",
       "1523300141           0.0      2009           0.0    98144  47.5944 -122.299   \n",
       "291310100            0.0      2004           0.0    98027  47.5345 -122.069   \n",
       "1523300157           0.0      2008           0.0    98144  47.5941 -122.299   \n",
       "\n",
       "            sqft_living15  sqft_lot15  \n",
       "id                                     \n",
       "7129300520           1340        5650  \n",
       "6414100192           1690        7639  \n",
       "5631500400           2720        8062  \n",
       "2487200875           1360        5000  \n",
       "1954400510           1800        7503  \n",
       "...                   ...         ...  \n",
       "263000018            1530        1509  \n",
       "6600060120           1830        7200  \n",
       "1523300141           1020        2007  \n",
       "291310100            1410        1287  \n",
       "1523300157           1020        1357  \n",
       "\n",
       "[21597 rows x 20 columns]"
      ]
     },
     "execution_count": 2,
     "metadata": {},
     "output_type": "execute_result"
    }
   ],
   "source": [
    "# Loading the kc_house_data.csv data using pandas\n",
    "df = pd.read_csv(\"data/kc_house_data.csv\",index_col=0)\n",
    "df"
   ]
  },
  {
   "cell_type": "markdown",
   "metadata": {},
   "source": [
    "> The Dataset has 20 Columns and 21597 rows each row presenting a house having a unique id.\n",
    "\n",
    "> For more information, let's call the pandas function **.info()**.\n",
    "\n"
   ]
  },
  {
   "cell_type": "code",
   "execution_count": 3,
   "metadata": {},
   "outputs": [
    {
     "name": "stdout",
     "output_type": "stream",
     "text": [
      "<class 'pandas.core.frame.DataFrame'>\n",
      "Int64Index: 21597 entries, 7129300520 to 1523300157\n",
      "Data columns (total 20 columns):\n",
      " #   Column         Non-Null Count  Dtype  \n",
      "---  ------         --------------  -----  \n",
      " 0   date           21597 non-null  object \n",
      " 1   price          21597 non-null  float64\n",
      " 2   bedrooms       21597 non-null  int64  \n",
      " 3   bathrooms      21597 non-null  float64\n",
      " 4   sqft_living    21597 non-null  int64  \n",
      " 5   sqft_lot       21597 non-null  int64  \n",
      " 6   floors         21597 non-null  float64\n",
      " 7   waterfront     19221 non-null  object \n",
      " 8   view           21534 non-null  object \n",
      " 9   condition      21597 non-null  object \n",
      " 10  grade          21597 non-null  object \n",
      " 11  sqft_above     21597 non-null  int64  \n",
      " 12  sqft_basement  21597 non-null  object \n",
      " 13  yr_built       21597 non-null  int64  \n",
      " 14  yr_renovated   17755 non-null  float64\n",
      " 15  zipcode        21597 non-null  int64  \n",
      " 16  lat            21597 non-null  float64\n",
      " 17  long           21597 non-null  float64\n",
      " 18  sqft_living15  21597 non-null  int64  \n",
      " 19  sqft_lot15     21597 non-null  int64  \n",
      "dtypes: float64(6), int64(8), object(6)\n",
      "memory usage: 3.5+ MB\n"
     ]
    }
   ],
   "source": [
    "df.info()"
   ]
  },
  {
   "cell_type": "markdown",
   "metadata": {},
   "source": [
    ">Looks like almost all of the columns are filled with few columns containing null values.\n",
    "Almost all the data columns are numerical, either **float** or **integer**. With five of them containing **object** dtypes including date columns.\n",
    "Let's explore further in understanding the exact numbers of the null values in our dataset by calling the **isna()** function."
   ]
  },
  {
   "cell_type": "code",
   "execution_count": 4,
   "metadata": {},
   "outputs": [
    {
     "data": {
      "text/plain": [
       "date                0\n",
       "price               0\n",
       "bedrooms            0\n",
       "bathrooms           0\n",
       "sqft_living         0\n",
       "sqft_lot            0\n",
       "floors              0\n",
       "waterfront       2376\n",
       "view               63\n",
       "condition           0\n",
       "grade               0\n",
       "sqft_above          0\n",
       "sqft_basement       0\n",
       "yr_built            0\n",
       "yr_renovated     3842\n",
       "zipcode             0\n",
       "lat                 0\n",
       "long                0\n",
       "sqft_living15       0\n",
       "sqft_lot15          0\n",
       "dtype: int64"
      ]
     },
     "execution_count": 4,
     "metadata": {},
     "output_type": "execute_result"
    }
   ],
   "source": [
    "# checking for null or missing data\n",
    "df.isna().sum()"
   ]
  },
  {
   "cell_type": "markdown",
   "metadata": {},
   "source": [
    "> The `waterfront` column contains 2376 null values, `view` column contains 63 null values and the `yr_renovated` column contains 3842 null values ."
   ]
  },
  {
   "cell_type": "markdown",
   "metadata": {},
   "source": [
    "> In understanding our Data, First of all let's handle our missing Data."
   ]
  },
  {
   "cell_type": "code",
   "execution_count": 5,
   "metadata": {},
   "outputs": [
    {
     "data": {
      "text/plain": [
       "NO     19075\n",
       "YES      146\n",
       "Name: waterfront, dtype: int64"
      ]
     },
     "execution_count": 5,
     "metadata": {},
     "output_type": "execute_result"
    }
   ],
   "source": [
    "df['waterfront'].value_counts()"
   ]
  },
  {
   "cell_type": "code",
   "execution_count": 6,
   "metadata": {},
   "outputs": [
    {
     "data": {
      "text/plain": [
       "NO     21432\n",
       "YES      165\n",
       "Name: waterfront, dtype: int64"
      ]
     },
     "execution_count": 6,
     "metadata": {},
     "output_type": "execute_result"
    }
   ],
   "source": [
    "# filling the waterfront data as it is too crucial for the project to drop it\n",
    "total_available = df['waterfront'].value_counts().sum()\n",
    "yes_p = int(df['waterfront'].value_counts()['YES'] * 100) / total_available\n",
    "no_p = int(df['waterfront'].value_counts()['NO'] * 100 ) / total_available\n",
    "missing = df['waterfront'].isna().sum()\n",
    "fill_no = int(no_p * missing/100)\n",
    "fill_yes =int( missing - fill_no)\n",
    "df['waterfront'].fillna('NO',limit=fill_no,inplace=True)\n",
    "df['waterfront'].fillna('YES',limit =fill_yes,inplace=True)\n",
    "df['waterfront'].value_counts()"
   ]
  },
  {
   "cell_type": "code",
   "execution_count": 7,
   "metadata": {},
   "outputs": [
    {
     "data": {
      "text/plain": [
       "NONE         19422\n",
       "AVERAGE        957\n",
       "GOOD           508\n",
       "FAIR           330\n",
       "EXCELLENT      317\n",
       "Name: view, dtype: int64"
      ]
     },
     "execution_count": 7,
     "metadata": {},
     "output_type": "execute_result"
    }
   ],
   "source": [
    "df['view'].value_counts()"
   ]
  },
  {
   "cell_type": "code",
   "execution_count": 8,
   "metadata": {
    "scrolled": true
   },
   "outputs": [
    {
     "data": {
      "text/plain": [
       "NONE         19485\n",
       "AVERAGE        957\n",
       "GOOD           508\n",
       "FAIR           330\n",
       "EXCELLENT      317\n",
       "Name: view, dtype: int64"
      ]
     },
     "execution_count": 8,
     "metadata": {},
     "output_type": "execute_result"
    }
   ],
   "source": [
    "# since \"None\" is abundant let's fill the null values with that\n",
    "# filling the 'view' column\n",
    "df['view'].fillna('NONE',inplace=True)\n",
    "df['view'].value_counts()"
   ]
  },
  {
   "cell_type": "code",
   "execution_count": 9,
   "metadata": {},
   "outputs": [
    {
     "data": {
      "text/plain": [
       "0.0       17011\n",
       "2014.0       73\n",
       "2013.0       31\n",
       "2003.0       31\n",
       "2007.0       30\n",
       "          ...  \n",
       "1951.0        1\n",
       "1953.0        1\n",
       "1946.0        1\n",
       "1976.0        1\n",
       "1948.0        1\n",
       "Name: yr_renovated, Length: 70, dtype: int64"
      ]
     },
     "execution_count": 9,
     "metadata": {},
     "output_type": "execute_result"
    }
   ],
   "source": [
    "df['yr_renovated'].value_counts()"
   ]
  },
  {
   "cell_type": "code",
   "execution_count": 10,
   "metadata": {},
   "outputs": [
    {
     "data": {
      "text/plain": [
       "array([   0., 1934., 1940., 1944., 1945., 1946., 1948., 1950., 1951.,\n",
       "       1953., 1954., 1955., 1956., 1957., 1958., 1959., 1960., 1962.,\n",
       "       1963., 1964., 1965., 1967., 1968., 1969., 1970., 1971., 1972.,\n",
       "       1973., 1974., 1975., 1976., 1977., 1978., 1979., 1980., 1981.,\n",
       "       1982., 1983., 1984., 1985., 1986., 1987., 1988., 1989., 1990.,\n",
       "       1991., 1992., 1993., 1994., 1995., 1996., 1997., 1998., 1999.,\n",
       "       2000., 2001., 2002., 2003., 2004., 2005., 2006., 2007., 2008.,\n",
       "       2009., 2010., 2011., 2012., 2013., 2014., 2015.,   nan])"
      ]
     },
     "execution_count": 10,
     "metadata": {},
     "output_type": "execute_result"
    }
   ],
   "source": [
    "df['yr_renovated'].sort_values().unique()"
   ]
  },
  {
   "cell_type": "markdown",
   "metadata": {},
   "source": [
    "> Filling the `yr_renovated` column with 0 since its frequency is highest suggesting most of the houses havent been renovated.\n",
    "Let's Drop it later because it gives us limited insight to our model"
   ]
  },
  {
   "cell_type": "code",
   "execution_count": 11,
   "metadata": {},
   "outputs": [
    {
     "data": {
      "text/plain": [
       "array([   0., 1991., 2002., 2010., 1992., 2013., 1994., 1978., 2005.,\n",
       "       2003., 1984., 1954., 2014., 2011., 1983., 1945., 1990., 1988.,\n",
       "       1977., 1981., 1995., 2000., 1999., 1998., 1970., 1989., 2004.,\n",
       "       1986., 2007., 1987., 2006., 1985., 2001., 1980., 1971., 1979.,\n",
       "       1997., 1950., 1969., 1948., 2009., 2015., 1974., 2008., 1968.,\n",
       "       2012., 1963., 1951., 1962., 1953., 1993., 1996., 1955., 1982.,\n",
       "       1956., 1940., 1976., 1946., 1975., 1964., 1973., 1957., 1959.,\n",
       "       1960., 1967., 1965., 1934., 1972., 1944., 1958.])"
      ]
     },
     "execution_count": 11,
     "metadata": {},
     "output_type": "execute_result"
    }
   ],
   "source": [
    "# Filling the 'yr_renovated' column\n",
    "df['yr_renovated'].fillna(value=0.0,inplace=True)\n",
    "df['yr_renovated'].unique()"
   ]
  },
  {
   "cell_type": "markdown",
   "metadata": {},
   "source": [
    "> visualizing using boxplots"
   ]
  },
  {
   "cell_type": "code",
   "execution_count": 39,
   "metadata": {},
   "outputs": [
    {
     "data": {
      "image/png": "[encoded data removed]",
      "text/plain": [
       "<Figure size 720x576 with 1 Axes>"
      ]
     },
     "metadata": {
      "needs_background": "light"
     },
     "output_type": "display_data"
    }
   ],
   "source": [
    "fig,ax = plt.subplots(figsize=(10,8))\n",
    "ax.boxplot(df['yr_renovated'])\n",
    "ax.set_title('boxplots of the yr_renovated column')\n",
    "plt.savefig('boxplots of the yr_renovated column')\n",
    "ax.set_ylabel('year');"
   ]
  },
  {
   "cell_type": "markdown",
   "metadata": {},
   "source": [
    "> Clearly from the above Visualization of the boxplot, you can see that the outliers are abundant in the yr_renovated column, justifying why we are dropping it later."
   ]
  },
  {
   "cell_type": "code",
   "execution_count": 13,
   "metadata": {},
   "outputs": [
    {
     "name": "stdout",
     "output_type": "stream",
     "text": [
      "<class 'pandas.core.frame.DataFrame'>\n",
      "Int64Index: 21597 entries, 7129300520 to 1523300157\n",
      "Data columns (total 20 columns):\n",
      " #   Column         Non-Null Count  Dtype  \n",
      "---  ------         --------------  -----  \n",
      " 0   date           21597 non-null  object \n",
      " 1   price          21597 non-null  float64\n",
      " 2   bedrooms       21597 non-null  int64  \n",
      " 3   bathrooms      21597 non-null  float64\n",
      " 4   sqft_living    21597 non-null  int64  \n",
      " 5   sqft_lot       21597 non-null  int64  \n",
      " 6   floors         21597 non-null  float64\n",
      " 7   waterfront     21597 non-null  object \n",
      " 8   view           21597 non-null  object \n",
      " 9   condition      21597 non-null  object \n",
      " 10  grade          21597 non-null  object \n",
      " 11  sqft_above     21597 non-null  int64  \n",
      " 12  sqft_basement  21597 non-null  object \n",
      " 13  yr_built       21597 non-null  int64  \n",
      " 14  yr_renovated   21597 non-null  float64\n",
      " 15  zipcode        21597 non-null  int64  \n",
      " 16  lat            21597 non-null  float64\n",
      " 17  long           21597 non-null  float64\n",
      " 18  sqft_living15  21597 non-null  int64  \n",
      " 19  sqft_lot15     21597 non-null  int64  \n",
      "dtypes: float64(6), int64(8), object(6)\n",
      "memory usage: 3.5+ MB\n"
     ]
    }
   ],
   "source": [
    "df.info()"
   ]
  },
  {
   "cell_type": "markdown",
   "metadata": {},
   "source": [
    "> No more Null values. But how about placeholder values as you can see that `sqft_basement` column is object dtype which is clearly suppose to be an integer or float indicating there is a placeholder value."
   ]
  },
  {
   "cell_type": "code",
   "execution_count": 14,
   "metadata": {},
   "outputs": [
    {
     "data": {
      "text/plain": [
       "array(['0.0', '10.0', '100.0', '1000.0', '1008.0', '1010.0', '1020.0',\n",
       "       '1024.0', '1030.0', '1040.0', '1050.0', '1060.0', '1070.0',\n",
       "       '1080.0', '1090.0', '110.0', '1100.0', '1110.0', '1120.0',\n",
       "       '1130.0', '1135.0', '1140.0', '1150.0', '1160.0', '1170.0',\n",
       "       '1180.0', '1190.0', '120.0', '1200.0', '1210.0', '1220.0',\n",
       "       '1230.0', '1240.0', '1245.0', '1248.0', '1250.0', '1260.0',\n",
       "       '1270.0', '1275.0', '1280.0', '1281.0', '1284.0', '1290.0',\n",
       "       '130.0', '1300.0', '1310.0', '1320.0', '1330.0', '1340.0',\n",
       "       '1350.0', '1360.0', '1370.0', '1380.0', '1390.0', '140.0',\n",
       "       '1400.0', '1410.0', '1420.0', '143.0', '1430.0', '1440.0', '145.0',\n",
       "       '1450.0', '1460.0', '1470.0', '1480.0', '1481.0', '1490.0',\n",
       "       '150.0', '1500.0', '1510.0', '1520.0', '1525.0', '1530.0',\n",
       "       '1540.0', '1548.0', '1550.0', '1560.0', '1570.0', '1580.0',\n",
       "       '1590.0', '160.0', '1600.0', '1610.0', '1620.0', '1630.0',\n",
       "       '1640.0', '1650.0', '1660.0', '1670.0', '1680.0', '1690.0',\n",
       "       '170.0', '1700.0', '1710.0', '172.0', '1720.0', '1730.0', '1740.0',\n",
       "       '1750.0', '176.0', '1760.0', '1770.0', '1780.0', '1790.0',\n",
       "       '1798.0', '180.0', '1800.0', '1810.0', '1816.0', '1820.0',\n",
       "       '1830.0', '1840.0', '1850.0', '1852.0', '1860.0', '1870.0',\n",
       "       '1880.0', '1890.0', '190.0', '1900.0', '1910.0', '1913.0',\n",
       "       '1920.0', '1930.0', '1940.0', '1950.0', '1960.0', '1990.0', '20.0',\n",
       "       '200.0', '2000.0', '2010.0', '2020.0', '2030.0', '2040.0',\n",
       "       '2050.0', '2060.0', '207.0', '2070.0', '2080.0', '2090.0', '210.0',\n",
       "       '2100.0', '2110.0', '2120.0', '2130.0', '2150.0', '2160.0',\n",
       "       '2170.0', '2180.0', '2190.0', '2196.0', '220.0', '2200.0',\n",
       "       '2220.0', '2240.0', '225.0', '2250.0', '230.0', '2300.0', '2310.0',\n",
       "       '2330.0', '235.0', '2350.0', '2360.0', '2390.0', '240.0', '2400.0',\n",
       "       '243.0', '248.0', '2490.0', '250.0', '2500.0', '2550.0', '2570.0',\n",
       "       '2580.0', '260.0', '2600.0', '2610.0', '265.0', '266.0', '270.0',\n",
       "       '2720.0', '2730.0', '274.0', '276.0', '280.0', '2810.0', '283.0',\n",
       "       '2850.0', '290.0', '295.0', '300.0', '3000.0', '310.0', '320.0',\n",
       "       '3260.0', '330.0', '340.0', '3480.0', '350.0', '3500.0', '360.0',\n",
       "       '370.0', '374.0', '380.0', '390.0', '40.0', '400.0', '410.0',\n",
       "       '4130.0', '414.0', '415.0', '417.0', '420.0', '430.0', '435.0',\n",
       "       '440.0', '450.0', '460.0', '470.0', '475.0', '480.0', '4820.0',\n",
       "       '490.0', '50.0', '500.0', '506.0', '508.0', '510.0', '515.0',\n",
       "       '516.0', '518.0', '520.0', '530.0', '540.0', '550.0', '556.0',\n",
       "       '560.0', '570.0', '580.0', '588.0', '590.0', '60.0', '600.0',\n",
       "       '602.0', '610.0', '620.0', '630.0', '640.0', '65.0', '650.0',\n",
       "       '652.0', '660.0', '666.0', '670.0', '680.0', '690.0', '70.0',\n",
       "       '700.0', '704.0', '710.0', '720.0', '730.0', '740.0', '750.0',\n",
       "       '760.0', '768.0', '770.0', '780.0', '784.0', '790.0', '792.0',\n",
       "       '80.0', '800.0', '810.0', '820.0', '830.0', '840.0', '850.0',\n",
       "       '860.0', '861.0', '862.0', '870.0', '875.0', '880.0', '890.0',\n",
       "       '90.0', '900.0', '906.0', '910.0', '915.0', '920.0', '930.0',\n",
       "       '935.0', '940.0', '946.0', '950.0', '960.0', '970.0', '980.0',\n",
       "       '990.0', '?'], dtype=object)"
      ]
     },
     "execution_count": 14,
     "metadata": {},
     "output_type": "execute_result"
    }
   ],
   "source": [
    "df['sqft_basement'].sort_values().unique()"
   ]
  },
  {
   "cell_type": "markdown",
   "metadata": {},
   "source": [
    "> You can clearly see there is '?' in it indicating the missing values amd change its dtype to float"
   ]
  },
  {
   "cell_type": "code",
   "execution_count": 15,
   "metadata": {},
   "outputs": [
    {
     "data": {
      "text/plain": [
       "0.0       12826\n",
       "?           454\n",
       "600.0       217\n",
       "500.0       209\n",
       "700.0       208\n",
       "          ...  \n",
       "374.0         1\n",
       "2190.0        1\n",
       "3500.0        1\n",
       "1548.0        1\n",
       "2196.0        1\n",
       "Name: sqft_basement, Length: 304, dtype: int64"
      ]
     },
     "execution_count": 15,
     "metadata": {},
     "output_type": "execute_result"
    }
   ],
   "source": [
    "df['sqft_basement'].sort_values().value_counts()"
   ]
  },
  {
   "cell_type": "markdown",
   "metadata": {},
   "source": [
    "> since 0.0 is highest in frequency,Let's fill using 0.0 and change its dtype to float"
   ]
  },
  {
   "cell_type": "code",
   "execution_count": 16,
   "metadata": {},
   "outputs": [
    {
     "data": {
      "text/plain": [
       "array([   0.,   10.,   20.,   40.,   50.,   60.,   65.,   70.,   80.,\n",
       "         90.,  100.,  110.,  120.,  130.,  140.,  143.,  145.,  150.,\n",
       "        160.,  170.,  172.,  176.,  180.,  190.,  200.,  207.,  210.,\n",
       "        220.,  225.,  230.,  235.,  240.,  243.,  248.,  250.,  260.,\n",
       "        265.,  266.,  270.,  274.,  276.,  280.,  283.,  290.,  295.,\n",
       "        300.,  310.,  320.,  330.,  340.,  350.,  360.,  370.,  374.,\n",
       "        380.,  390.,  400.,  410.,  414.,  415.,  417.,  420.,  430.,\n",
       "        435.,  440.,  450.,  460.,  470.,  475.,  480.,  490.,  500.,\n",
       "        506.,  508.,  510.,  515.,  516.,  518.,  520.,  530.,  540.,\n",
       "        550.,  556.,  560.,  570.,  580.,  588.,  590.,  600.,  602.,\n",
       "        610.,  620.,  630.,  640.,  650.,  652.,  660.,  666.,  670.,\n",
       "        680.,  690.,  700.,  704.,  710.,  720.,  730.,  740.,  750.,\n",
       "        760.,  768.,  770.,  780.,  784.,  790.,  792.,  800.,  810.,\n",
       "        820.,  830.,  840.,  850.,  860.,  861.,  862.,  870.,  875.,\n",
       "        880.,  890.,  900.,  906.,  910.,  915.,  920.,  930.,  935.,\n",
       "        940.,  946.,  950.,  960.,  970.,  980.,  990., 1000., 1008.,\n",
       "       1010., 1020., 1024., 1030., 1040., 1050., 1060., 1070., 1080.,\n",
       "       1090., 1100., 1110., 1120., 1130., 1135., 1140., 1150., 1160.,\n",
       "       1170., 1180., 1190., 1200., 1210., 1220., 1230., 1240., 1245.,\n",
       "       1248., 1250., 1260., 1270., 1275., 1280., 1281., 1284., 1290.,\n",
       "       1300., 1310., 1320., 1330., 1340., 1350., 1360., 1370., 1380.,\n",
       "       1390., 1400., 1410., 1420., 1430., 1440., 1450., 1460., 1470.,\n",
       "       1480., 1481., 1490., 1500., 1510., 1520., 1525., 1530., 1540.,\n",
       "       1548., 1550., 1560., 1570., 1580., 1590., 1600., 1610., 1620.,\n",
       "       1630., 1640., 1650., 1660., 1670., 1680., 1690., 1700., 1710.,\n",
       "       1720., 1730., 1740., 1750., 1760., 1770., 1780., 1790., 1798.,\n",
       "       1800., 1810., 1816., 1820., 1830., 1840., 1850., 1852., 1860.,\n",
       "       1870., 1880., 1890., 1900., 1910., 1913., 1920., 1930., 1940.,\n",
       "       1950., 1960., 1990., 2000., 2010., 2020., 2030., 2040., 2050.,\n",
       "       2060., 2070., 2080., 2090., 2100., 2110., 2120., 2130., 2150.,\n",
       "       2160., 2170., 2180., 2190., 2196., 2200., 2220., 2240., 2250.,\n",
       "       2300., 2310., 2330., 2350., 2360., 2390., 2400., 2490., 2500.,\n",
       "       2550., 2570., 2580., 2600., 2610., 2720., 2730., 2810., 2850.,\n",
       "       3000., 3260., 3480., 3500., 4130., 4820.])"
      ]
     },
     "execution_count": 16,
     "metadata": {},
     "output_type": "execute_result"
    }
   ],
   "source": [
    "df['sqft_basement'] = df['sqft_basement'].replace('?',\"0\").astype('float')\n",
    "df['sqft_basement'].sort_values().unique()"
   ]
  },
  {
   "cell_type": "code",
   "execution_count": 17,
   "metadata": {},
   "outputs": [
    {
     "data": {
      "image/png": "[encoded data removed]",
      "text/plain": [
       "<Figure size 432x288 with 1 Axes>"
      ]
     },
     "metadata": {
      "needs_background": "light"
     },
     "output_type": "display_data"
    }
   ],
   "source": [
    "fig = plt.subplot()\n",
    "plt.boxplot(df['sqft_basement'])\n",
    "plt.title('Boxplots of sqft_basement')\n",
    "plt.savefig('Boxplots_of_sqft_basement.png')\n",
    "plt.show();"
   ]
  },
  {
   "cell_type": "markdown",
   "metadata": {},
   "source": [
    "> Too many outliers in the `sqft_basement` column values, with the useful range of values situated around 0 , indicating its gonna giving us meaningless insight.\n",
    "\n",
    "\n",
    "> Best drop it."
   ]
  },
  {
   "cell_type": "code",
   "execution_count": 18,
   "metadata": {},
   "outputs": [
    {
     "name": "stdout",
     "output_type": "stream",
     "text": [
      "<class 'pandas.core.frame.DataFrame'>\n",
      "Int64Index: 21597 entries, 7129300520 to 1523300157\n",
      "Data columns (total 20 columns):\n",
      " #   Column         Non-Null Count  Dtype  \n",
      "---  ------         --------------  -----  \n",
      " 0   date           21597 non-null  object \n",
      " 1   price          21597 non-null  float64\n",
      " 2   bedrooms       21597 non-null  int64  \n",
      " 3   bathrooms      21597 non-null  float64\n",
      " 4   sqft_living    21597 non-null  int64  \n",
      " 5   sqft_lot       21597 non-null  int64  \n",
      " 6   floors         21597 non-null  float64\n",
      " 7   waterfront     21597 non-null  object \n",
      " 8   view           21597 non-null  object \n",
      " 9   condition      21597 non-null  object \n",
      " 10  grade          21597 non-null  object \n",
      " 11  sqft_above     21597 non-null  int64  \n",
      " 12  sqft_basement  21597 non-null  float64\n",
      " 13  yr_built       21597 non-null  int64  \n",
      " 14  yr_renovated   21597 non-null  float64\n",
      " 15  zipcode        21597 non-null  int64  \n",
      " 16  lat            21597 non-null  float64\n",
      " 17  long           21597 non-null  float64\n",
      " 18  sqft_living15  21597 non-null  int64  \n",
      " 19  sqft_lot15     21597 non-null  int64  \n",
      "dtypes: float64(7), int64(8), object(5)\n",
      "memory usage: 3.5+ MB\n"
     ]
    }
   ],
   "source": [
    "df.info()"
   ]
  },
  {
   "cell_type": "markdown",
   "metadata": {},
   "source": [
    "## Let's Visualize the Linearity of each Variable Against Price Variable."
   ]
  },
  {
   "cell_type": "code",
   "execution_count": 19,
   "metadata": {
    "scrolled": false
   },
   "outputs": [
    {
     "data": {
      "image/png": "[encoded data removed]",
      "text/plain": [
       "<Figure size 432x288 with 1 Axes>"
      ]
     },
     "metadata": {
      "needs_background": "light"
     },
     "output_type": "display_data"
    },
    {
     "data": {
      "image/png": "[encoded data removed]",
      "text/plain": [
       "<Figure size 432x288 with 1 Axes>"
      ]
     },
     "metadata": {
      "needs_background": "light"
     },
     "output_type": "display_data"
    },
    {
     "data": {
      "image/png": "[encoded data removed]",
      "text/plain": [
       "<Figure size 432x288 with 1 Axes>"
      ]
     },
     "metadata": {
      "needs_background": "light"
     },
     "output_type": "display_data"
    },
    {
     "data": {
      "image/png": "[encoded data removed]",
      "text/plain": [
       "<Figure size 432x288 with 1 Axes>"
      ]
     },
     "metadata": {
      "needs_background": "light"
     },
     "output_type": "display_data"
    },
    {
     "data": {
      "image/png": "[encoded data removed]",
      "text/plain": [
       "<Figure size 432x288 with 1 Axes>"
      ]
     },
     "metadata": {
      "needs_background": "light"
     },
     "output_type": "display_data"
    },
    {
     "data": {
      "image/png": "[encoded data removed]",
      "text/plain": [
       "<Figure size 432x288 with 1 Axes>"
      ]
     },
     "metadata": {
      "needs_background": "light"
     },
     "output_type": "display_data"
    },
    {
     "data": {
      "image/png": "[encoded data removed]",
      "text/plain": [
       "<Figure size 432x288 with 1 Axes>"
      ]
     },
     "metadata": {
      "needs_background": "light"
     },
     "output_type": "display_data"
    },
    {
     "data": {
      "image/png": "[encoded data removed]",
      "text/plain": [
       "<Figure size 432x288 with 1 Axes>"
      ]
     },
     "metadata": {
      "needs_background": "light"
     },
     "output_type": "display_data"
    },
    {
     "data": {
      "image/png": "[encoded data removed]",
      "text/plain": [
       "<Figure size 432x288 with 1 Axes>"
      ]
     },
     "metadata": {
      "needs_background": "light"
     },
     "output_type": "display_data"
    },
    {
     "data": {
      "image/png": "[encoded data removed]",
      "text/plain": [
       "<Figure size 432x288 with 1 Axes>"
      ]
     },
     "metadata": {
      "needs_background": "light"
     },
     "output_type": "display_data"
    },
    {
     "data": {
      "image/png": "[encoded data removed]",
      "text/plain": [
       "<Figure size 432x288 with 1 Axes>"
      ]
     },
     "metadata": {
      "needs_background": "light"
     },
     "output_type": "display_data"
    },
    {
     "data": {
      "image/png": "[encoded data removed]",
      "text/plain": [
       "<Figure size 432x288 with 1 Axes>"
      ]
     },
     "metadata": {
      "needs_background": "light"
     },
     "output_type": "display_data"
    },
    {
     "data": {
      "image/png": "[encoded data removed]",
      "text/plain": [
       "<Figure size 432x288 with 1 Axes>"
      ]
     },
     "metadata": {
      "needs_background": "light"
     },
     "output_type": "display_data"
    },
    {
     "data": {
      "image/png": "[encoded data removed]",
      "text/plain": [
       "<Figure size 432x288 with 1 Axes>"
      ]
     },
     "metadata": {
      "needs_background": "light"
     },
     "output_type": "display_data"
    },
    {
     "data": {
      "image/png": "[encoded data removed]",
      "text/plain": [
       "<Figure size 432x288 with 1 Axes>"
      ]
     },
     "metadata": {
      "needs_background": "light"
     },
     "output_type": "display_data"
    },
    {
     "data": {
      "image/png": "[encoded data removed]",
      "text/plain": [
       "<Figure size 432x288 with 1 Axes>"
      ]
     },
     "metadata": {
      "needs_background": "light"
     },
     "output_type": "display_data"
    },
    {
     "data": {
      "image/png": "[encoded data removed]",
      "text/plain": [
       "<Figure size 432x288 with 1 Axes>"
      ]
     },
     "metadata": {
      "needs_background": "light"
     },
     "output_type": "display_data"
    },
    {
     "data": {
      "image/png": "[encoded data removed]",
      "text/plain": [
       "<Figure size 432x288 with 1 Axes>"
      ]
     },
     "metadata": {
      "needs_background": "light"
     },
     "output_type": "display_data"
    },
    {
     "data": {
      "image/png": "[encoded data removed]",
      "text/plain": [
       "<Figure size 432x288 with 1 Axes>"
      ]
     },
     "metadata": {
      "needs_background": "light"
     },
     "output_type": "display_data"
    }
   ],
   "source": [
    " # ploting each column against 'price'\n",
    "for col in df.columns:\n",
    "    if col != 'price':\n",
    "        fig,ax=plt.subplots()\n",
    "        ax.scatter(df[col],df['price'],label=col)\n",
    "        ax.set_title(f'Scatter plot of {col} against Price')\n",
    "        ax.legend()\n",
    "        plt.savefig(f'scatter_plot_of_{col}.png')\n",
    "        plt.show;"
   ]
  },
  {
   "cell_type": "markdown",
   "metadata": {},
   "source": [
    "### Setting our X to contain variables that showed linearity and ignoring the following columns:\n",
    "* Zipcode\n",
    "* latitude\n",
    "* longitude\n",
    "* view"
   ]
  },
  {
   "cell_type": "code",
   "execution_count": 20,
   "metadata": {},
   "outputs": [],
   "source": [
    "drop_df = df.drop(columns=['yr_renovated','yr_built','sqft_basement','date','zipcode','lat','long','view','price'],axis=1)"
   ]
  },
  {
   "cell_type": "code",
   "execution_count": 21,
   "metadata": {
    "scrolled": false
   },
   "outputs": [
    {
     "data": {
      "text/html": [
       "<div>\n",
       "<style scoped>\n",
       "    .dataframe tbody tr th:only-of-type {\n",
       "        vertical-align: middle;\n",
       "    }\n",
       "\n",
       "    .dataframe tbody tr th {\n",
       "        vertical-align: top;\n",
       "    }\n",
       "\n",
       "    .dataframe thead th {\n",
       "        text-align: right;\n",
       "    }\n",
       "</style>\n",
       "<table border=\"1\" class=\"dataframe\">\n",
       "  <thead>\n",
       "    <tr style=\"text-align: right;\">\n",
       "      <th></th>\n",
       "      <th>bedrooms</th>\n",
       "      <th>bathrooms</th>\n",
       "      <th>sqft_living</th>\n",
       "      <th>sqft_lot</th>\n",
       "      <th>floors</th>\n",
       "      <th>waterfront</th>\n",
       "      <th>condition</th>\n",
       "      <th>grade</th>\n",
       "      <th>sqft_above</th>\n",
       "      <th>sqft_living15</th>\n",
       "      <th>sqft_lot15</th>\n",
       "    </tr>\n",
       "    <tr>\n",
       "      <th>id</th>\n",
       "      <th></th>\n",
       "      <th></th>\n",
       "      <th></th>\n",
       "      <th></th>\n",
       "      <th></th>\n",
       "      <th></th>\n",
       "      <th></th>\n",
       "      <th></th>\n",
       "      <th></th>\n",
       "      <th></th>\n",
       "      <th></th>\n",
       "    </tr>\n",
       "  </thead>\n",
       "  <tbody>\n",
       "    <tr>\n",
       "      <th>7129300520</th>\n",
       "      <td>3</td>\n",
       "      <td>1.00</td>\n",
       "      <td>1180</td>\n",
       "      <td>5650</td>\n",
       "      <td>1.0</td>\n",
       "      <td>NO</td>\n",
       "      <td>Average</td>\n",
       "      <td>7 Average</td>\n",
       "      <td>1180</td>\n",
       "      <td>1340</td>\n",
       "      <td>5650</td>\n",
       "    </tr>\n",
       "    <tr>\n",
       "      <th>6414100192</th>\n",
       "      <td>3</td>\n",
       "      <td>2.25</td>\n",
       "      <td>2570</td>\n",
       "      <td>7242</td>\n",
       "      <td>2.0</td>\n",
       "      <td>NO</td>\n",
       "      <td>Average</td>\n",
       "      <td>7 Average</td>\n",
       "      <td>2170</td>\n",
       "      <td>1690</td>\n",
       "      <td>7639</td>\n",
       "    </tr>\n",
       "    <tr>\n",
       "      <th>5631500400</th>\n",
       "      <td>2</td>\n",
       "      <td>1.00</td>\n",
       "      <td>770</td>\n",
       "      <td>10000</td>\n",
       "      <td>1.0</td>\n",
       "      <td>NO</td>\n",
       "      <td>Average</td>\n",
       "      <td>6 Low Average</td>\n",
       "      <td>770</td>\n",
       "      <td>2720</td>\n",
       "      <td>8062</td>\n",
       "    </tr>\n",
       "    <tr>\n",
       "      <th>2487200875</th>\n",
       "      <td>4</td>\n",
       "      <td>3.00</td>\n",
       "      <td>1960</td>\n",
       "      <td>5000</td>\n",
       "      <td>1.0</td>\n",
       "      <td>NO</td>\n",
       "      <td>Very Good</td>\n",
       "      <td>7 Average</td>\n",
       "      <td>1050</td>\n",
       "      <td>1360</td>\n",
       "      <td>5000</td>\n",
       "    </tr>\n",
       "    <tr>\n",
       "      <th>1954400510</th>\n",
       "      <td>3</td>\n",
       "      <td>2.00</td>\n",
       "      <td>1680</td>\n",
       "      <td>8080</td>\n",
       "      <td>1.0</td>\n",
       "      <td>NO</td>\n",
       "      <td>Average</td>\n",
       "      <td>8 Good</td>\n",
       "      <td>1680</td>\n",
       "      <td>1800</td>\n",
       "      <td>7503</td>\n",
       "    </tr>\n",
       "    <tr>\n",
       "      <th>...</th>\n",
       "      <td>...</td>\n",
       "      <td>...</td>\n",
       "      <td>...</td>\n",
       "      <td>...</td>\n",
       "      <td>...</td>\n",
       "      <td>...</td>\n",
       "      <td>...</td>\n",
       "      <td>...</td>\n",
       "      <td>...</td>\n",
       "      <td>...</td>\n",
       "      <td>...</td>\n",
       "    </tr>\n",
       "    <tr>\n",
       "      <th>263000018</th>\n",
       "      <td>3</td>\n",
       "      <td>2.50</td>\n",
       "      <td>1530</td>\n",
       "      <td>1131</td>\n",
       "      <td>3.0</td>\n",
       "      <td>NO</td>\n",
       "      <td>Average</td>\n",
       "      <td>8 Good</td>\n",
       "      <td>1530</td>\n",
       "      <td>1530</td>\n",
       "      <td>1509</td>\n",
       "    </tr>\n",
       "    <tr>\n",
       "      <th>6600060120</th>\n",
       "      <td>4</td>\n",
       "      <td>2.50</td>\n",
       "      <td>2310</td>\n",
       "      <td>5813</td>\n",
       "      <td>2.0</td>\n",
       "      <td>NO</td>\n",
       "      <td>Average</td>\n",
       "      <td>8 Good</td>\n",
       "      <td>2310</td>\n",
       "      <td>1830</td>\n",
       "      <td>7200</td>\n",
       "    </tr>\n",
       "    <tr>\n",
       "      <th>1523300141</th>\n",
       "      <td>2</td>\n",
       "      <td>0.75</td>\n",
       "      <td>1020</td>\n",
       "      <td>1350</td>\n",
       "      <td>2.0</td>\n",
       "      <td>NO</td>\n",
       "      <td>Average</td>\n",
       "      <td>7 Average</td>\n",
       "      <td>1020</td>\n",
       "      <td>1020</td>\n",
       "      <td>2007</td>\n",
       "    </tr>\n",
       "    <tr>\n",
       "      <th>291310100</th>\n",
       "      <td>3</td>\n",
       "      <td>2.50</td>\n",
       "      <td>1600</td>\n",
       "      <td>2388</td>\n",
       "      <td>2.0</td>\n",
       "      <td>YES</td>\n",
       "      <td>Average</td>\n",
       "      <td>8 Good</td>\n",
       "      <td>1600</td>\n",
       "      <td>1410</td>\n",
       "      <td>1287</td>\n",
       "    </tr>\n",
       "    <tr>\n",
       "      <th>1523300157</th>\n",
       "      <td>2</td>\n",
       "      <td>0.75</td>\n",
       "      <td>1020</td>\n",
       "      <td>1076</td>\n",
       "      <td>2.0</td>\n",
       "      <td>NO</td>\n",
       "      <td>Average</td>\n",
       "      <td>7 Average</td>\n",
       "      <td>1020</td>\n",
       "      <td>1020</td>\n",
       "      <td>1357</td>\n",
       "    </tr>\n",
       "  </tbody>\n",
       "</table>\n",
       "<p>21597 rows × 11 columns</p>\n",
       "</div>"
      ],
      "text/plain": [
       "            bedrooms  bathrooms  sqft_living  sqft_lot  floors waterfront  \\\n",
       "id                                                                          \n",
       "7129300520         3       1.00         1180      5650     1.0         NO   \n",
       "6414100192         3       2.25         2570      7242     2.0         NO   \n",
       "5631500400         2       1.00          770     10000     1.0         NO   \n",
       "2487200875         4       3.00         1960      5000     1.0         NO   \n",
       "1954400510         3       2.00         1680      8080     1.0         NO   \n",
       "...              ...        ...          ...       ...     ...        ...   \n",
       "263000018          3       2.50         1530      1131     3.0         NO   \n",
       "6600060120         4       2.50         2310      5813     2.0         NO   \n",
       "1523300141         2       0.75         1020      1350     2.0         NO   \n",
       "291310100          3       2.50         1600      2388     2.0        YES   \n",
       "1523300157         2       0.75         1020      1076     2.0         NO   \n",
       "\n",
       "            condition          grade  sqft_above  sqft_living15  sqft_lot15  \n",
       "id                                                                           \n",
       "7129300520    Average      7 Average        1180           1340        5650  \n",
       "6414100192    Average      7 Average        2170           1690        7639  \n",
       "5631500400    Average  6 Low Average         770           2720        8062  \n",
       "2487200875  Very Good      7 Average        1050           1360        5000  \n",
       "1954400510    Average         8 Good        1680           1800        7503  \n",
       "...               ...            ...         ...            ...         ...  \n",
       "263000018     Average         8 Good        1530           1530        1509  \n",
       "6600060120    Average         8 Good        2310           1830        7200  \n",
       "1523300141    Average      7 Average        1020           1020        2007  \n",
       "291310100     Average         8 Good        1600           1410        1287  \n",
       "1523300157    Average      7 Average        1020           1020        1357  \n",
       "\n",
       "[21597 rows x 11 columns]"
      ]
     },
     "execution_count": 21,
     "metadata": {},
     "output_type": "execute_result"
    }
   ],
   "source": [
    "drop_df"
   ]
  },
  {
   "cell_type": "code",
   "execution_count": 22,
   "metadata": {},
   "outputs": [],
   "source": [
    "# one hot encoding our categorical variables\n",
    "one_hot = pd.get_dummies(data = drop_df, columns=['grade','condition','waterfront'],drop_first=True)"
   ]
  },
  {
   "cell_type": "code",
   "execution_count": 23,
   "metadata": {},
   "outputs": [
    {
     "data": {
      "text/html": [
       "<div>\n",
       "<style scoped>\n",
       "    .dataframe tbody tr th:only-of-type {\n",
       "        vertical-align: middle;\n",
       "    }\n",
       "\n",
       "    .dataframe tbody tr th {\n",
       "        vertical-align: top;\n",
       "    }\n",
       "\n",
       "    .dataframe thead th {\n",
       "        text-align: right;\n",
       "    }\n",
       "</style>\n",
       "<table border=\"1\" class=\"dataframe\">\n",
       "  <thead>\n",
       "    <tr style=\"text-align: right;\">\n",
       "      <th></th>\n",
       "      <th>bedrooms</th>\n",
       "      <th>bathrooms</th>\n",
       "      <th>sqft_living</th>\n",
       "      <th>sqft_lot</th>\n",
       "      <th>floors</th>\n",
       "      <th>sqft_above</th>\n",
       "      <th>sqft_living15</th>\n",
       "      <th>sqft_lot15</th>\n",
       "      <th>grade_11 Excellent</th>\n",
       "      <th>grade_12 Luxury</th>\n",
       "      <th>...</th>\n",
       "      <th>grade_5 Fair</th>\n",
       "      <th>grade_6 Low Average</th>\n",
       "      <th>grade_7 Average</th>\n",
       "      <th>grade_8 Good</th>\n",
       "      <th>grade_9 Better</th>\n",
       "      <th>condition_Fair</th>\n",
       "      <th>condition_Good</th>\n",
       "      <th>condition_Poor</th>\n",
       "      <th>condition_Very Good</th>\n",
       "      <th>waterfront_YES</th>\n",
       "    </tr>\n",
       "    <tr>\n",
       "      <th>id</th>\n",
       "      <th></th>\n",
       "      <th></th>\n",
       "      <th></th>\n",
       "      <th></th>\n",
       "      <th></th>\n",
       "      <th></th>\n",
       "      <th></th>\n",
       "      <th></th>\n",
       "      <th></th>\n",
       "      <th></th>\n",
       "      <th></th>\n",
       "      <th></th>\n",
       "      <th></th>\n",
       "      <th></th>\n",
       "      <th></th>\n",
       "      <th></th>\n",
       "      <th></th>\n",
       "      <th></th>\n",
       "      <th></th>\n",
       "      <th></th>\n",
       "      <th></th>\n",
       "    </tr>\n",
       "  </thead>\n",
       "  <tbody>\n",
       "    <tr>\n",
       "      <th>7129300520</th>\n",
       "      <td>3</td>\n",
       "      <td>1.00</td>\n",
       "      <td>1180</td>\n",
       "      <td>5650</td>\n",
       "      <td>1.0</td>\n",
       "      <td>1180</td>\n",
       "      <td>1340</td>\n",
       "      <td>5650</td>\n",
       "      <td>0</td>\n",
       "      <td>0</td>\n",
       "      <td>...</td>\n",
       "      <td>0</td>\n",
       "      <td>0</td>\n",
       "      <td>1</td>\n",
       "      <td>0</td>\n",
       "      <td>0</td>\n",
       "      <td>0</td>\n",
       "      <td>0</td>\n",
       "      <td>0</td>\n",
       "      <td>0</td>\n",
       "      <td>0</td>\n",
       "    </tr>\n",
       "    <tr>\n",
       "      <th>6414100192</th>\n",
       "      <td>3</td>\n",
       "      <td>2.25</td>\n",
       "      <td>2570</td>\n",
       "      <td>7242</td>\n",
       "      <td>2.0</td>\n",
       "      <td>2170</td>\n",
       "      <td>1690</td>\n",
       "      <td>7639</td>\n",
       "      <td>0</td>\n",
       "      <td>0</td>\n",
       "      <td>...</td>\n",
       "      <td>0</td>\n",
       "      <td>0</td>\n",
       "      <td>1</td>\n",
       "      <td>0</td>\n",
       "      <td>0</td>\n",
       "      <td>0</td>\n",
       "      <td>0</td>\n",
       "      <td>0</td>\n",
       "      <td>0</td>\n",
       "      <td>0</td>\n",
       "    </tr>\n",
       "    <tr>\n",
       "      <th>5631500400</th>\n",
       "      <td>2</td>\n",
       "      <td>1.00</td>\n",
       "      <td>770</td>\n",
       "      <td>10000</td>\n",
       "      <td>1.0</td>\n",
       "      <td>770</td>\n",
       "      <td>2720</td>\n",
       "      <td>8062</td>\n",
       "      <td>0</td>\n",
       "      <td>0</td>\n",
       "      <td>...</td>\n",
       "      <td>0</td>\n",
       "      <td>1</td>\n",
       "      <td>0</td>\n",
       "      <td>0</td>\n",
       "      <td>0</td>\n",
       "      <td>0</td>\n",
       "      <td>0</td>\n",
       "      <td>0</td>\n",
       "      <td>0</td>\n",
       "      <td>0</td>\n",
       "    </tr>\n",
       "    <tr>\n",
       "      <th>2487200875</th>\n",
       "      <td>4</td>\n",
       "      <td>3.00</td>\n",
       "      <td>1960</td>\n",
       "      <td>5000</td>\n",
       "      <td>1.0</td>\n",
       "      <td>1050</td>\n",
       "      <td>1360</td>\n",
       "      <td>5000</td>\n",
       "      <td>0</td>\n",
       "      <td>0</td>\n",
       "      <td>...</td>\n",
       "      <td>0</td>\n",
       "      <td>0</td>\n",
       "      <td>1</td>\n",
       "      <td>0</td>\n",
       "      <td>0</td>\n",
       "      <td>0</td>\n",
       "      <td>0</td>\n",
       "      <td>0</td>\n",
       "      <td>1</td>\n",
       "      <td>0</td>\n",
       "    </tr>\n",
       "    <tr>\n",
       "      <th>1954400510</th>\n",
       "      <td>3</td>\n",
       "      <td>2.00</td>\n",
       "      <td>1680</td>\n",
       "      <td>8080</td>\n",
       "      <td>1.0</td>\n",
       "      <td>1680</td>\n",
       "      <td>1800</td>\n",
       "      <td>7503</td>\n",
       "      <td>0</td>\n",
       "      <td>0</td>\n",
       "      <td>...</td>\n",
       "      <td>0</td>\n",
       "      <td>0</td>\n",
       "      <td>0</td>\n",
       "      <td>1</td>\n",
       "      <td>0</td>\n",
       "      <td>0</td>\n",
       "      <td>0</td>\n",
       "      <td>0</td>\n",
       "      <td>0</td>\n",
       "      <td>0</td>\n",
       "    </tr>\n",
       "    <tr>\n",
       "      <th>...</th>\n",
       "      <td>...</td>\n",
       "      <td>...</td>\n",
       "      <td>...</td>\n",
       "      <td>...</td>\n",
       "      <td>...</td>\n",
       "      <td>...</td>\n",
       "      <td>...</td>\n",
       "      <td>...</td>\n",
       "      <td>...</td>\n",
       "      <td>...</td>\n",
       "      <td>...</td>\n",
       "      <td>...</td>\n",
       "      <td>...</td>\n",
       "      <td>...</td>\n",
       "      <td>...</td>\n",
       "      <td>...</td>\n",
       "      <td>...</td>\n",
       "      <td>...</td>\n",
       "      <td>...</td>\n",
       "      <td>...</td>\n",
       "      <td>...</td>\n",
       "    </tr>\n",
       "    <tr>\n",
       "      <th>263000018</th>\n",
       "      <td>3</td>\n",
       "      <td>2.50</td>\n",
       "      <td>1530</td>\n",
       "      <td>1131</td>\n",
       "      <td>3.0</td>\n",
       "      <td>1530</td>\n",
       "      <td>1530</td>\n",
       "      <td>1509</td>\n",
       "      <td>0</td>\n",
       "      <td>0</td>\n",
       "      <td>...</td>\n",
       "      <td>0</td>\n",
       "      <td>0</td>\n",
       "      <td>0</td>\n",
       "      <td>1</td>\n",
       "      <td>0</td>\n",
       "      <td>0</td>\n",
       "      <td>0</td>\n",
       "      <td>0</td>\n",
       "      <td>0</td>\n",
       "      <td>0</td>\n",
       "    </tr>\n",
       "    <tr>\n",
       "      <th>6600060120</th>\n",
       "      <td>4</td>\n",
       "      <td>2.50</td>\n",
       "      <td>2310</td>\n",
       "      <td>5813</td>\n",
       "      <td>2.0</td>\n",
       "      <td>2310</td>\n",
       "      <td>1830</td>\n",
       "      <td>7200</td>\n",
       "      <td>0</td>\n",
       "      <td>0</td>\n",
       "      <td>...</td>\n",
       "      <td>0</td>\n",
       "      <td>0</td>\n",
       "      <td>0</td>\n",
       "      <td>1</td>\n",
       "      <td>0</td>\n",
       "      <td>0</td>\n",
       "      <td>0</td>\n",
       "      <td>0</td>\n",
       "      <td>0</td>\n",
       "      <td>0</td>\n",
       "    </tr>\n",
       "    <tr>\n",
       "      <th>1523300141</th>\n",
       "      <td>2</td>\n",
       "      <td>0.75</td>\n",
       "      <td>1020</td>\n",
       "      <td>1350</td>\n",
       "      <td>2.0</td>\n",
       "      <td>1020</td>\n",
       "      <td>1020</td>\n",
       "      <td>2007</td>\n",
       "      <td>0</td>\n",
       "      <td>0</td>\n",
       "      <td>...</td>\n",
       "      <td>0</td>\n",
       "      <td>0</td>\n",
       "      <td>1</td>\n",
       "      <td>0</td>\n",
       "      <td>0</td>\n",
       "      <td>0</td>\n",
       "      <td>0</td>\n",
       "      <td>0</td>\n",
       "      <td>0</td>\n",
       "      <td>0</td>\n",
       "    </tr>\n",
       "    <tr>\n",
       "      <th>291310100</th>\n",
       "      <td>3</td>\n",
       "      <td>2.50</td>\n",
       "      <td>1600</td>\n",
       "      <td>2388</td>\n",
       "      <td>2.0</td>\n",
       "      <td>1600</td>\n",
       "      <td>1410</td>\n",
       "      <td>1287</td>\n",
       "      <td>0</td>\n",
       "      <td>0</td>\n",
       "      <td>...</td>\n",
       "      <td>0</td>\n",
       "      <td>0</td>\n",
       "      <td>0</td>\n",
       "      <td>1</td>\n",
       "      <td>0</td>\n",
       "      <td>0</td>\n",
       "      <td>0</td>\n",
       "      <td>0</td>\n",
       "      <td>0</td>\n",
       "      <td>1</td>\n",
       "    </tr>\n",
       "    <tr>\n",
       "      <th>1523300157</th>\n",
       "      <td>2</td>\n",
       "      <td>0.75</td>\n",
       "      <td>1020</td>\n",
       "      <td>1076</td>\n",
       "      <td>2.0</td>\n",
       "      <td>1020</td>\n",
       "      <td>1020</td>\n",
       "      <td>1357</td>\n",
       "      <td>0</td>\n",
       "      <td>0</td>\n",
       "      <td>...</td>\n",
       "      <td>0</td>\n",
       "      <td>0</td>\n",
       "      <td>1</td>\n",
       "      <td>0</td>\n",
       "      <td>0</td>\n",
       "      <td>0</td>\n",
       "      <td>0</td>\n",
       "      <td>0</td>\n",
       "      <td>0</td>\n",
       "      <td>0</td>\n",
       "    </tr>\n",
       "  </tbody>\n",
       "</table>\n",
       "<p>21597 rows × 23 columns</p>\n",
       "</div>"
      ],
      "text/plain": [
       "            bedrooms  bathrooms  sqft_living  sqft_lot  floors  sqft_above  \\\n",
       "id                                                                           \n",
       "7129300520         3       1.00         1180      5650     1.0        1180   \n",
       "6414100192         3       2.25         2570      7242     2.0        2170   \n",
       "5631500400         2       1.00          770     10000     1.0         770   \n",
       "2487200875         4       3.00         1960      5000     1.0        1050   \n",
       "1954400510         3       2.00         1680      8080     1.0        1680   \n",
       "...              ...        ...          ...       ...     ...         ...   \n",
       "263000018          3       2.50         1530      1131     3.0        1530   \n",
       "6600060120         4       2.50         2310      5813     2.0        2310   \n",
       "1523300141         2       0.75         1020      1350     2.0        1020   \n",
       "291310100          3       2.50         1600      2388     2.0        1600   \n",
       "1523300157         2       0.75         1020      1076     2.0        1020   \n",
       "\n",
       "            sqft_living15  sqft_lot15  grade_11 Excellent  grade_12 Luxury  \\\n",
       "id                                                                           \n",
       "7129300520           1340        5650                   0                0   \n",
       "6414100192           1690        7639                   0                0   \n",
       "5631500400           2720        8062                   0                0   \n",
       "2487200875           1360        5000                   0                0   \n",
       "1954400510           1800        7503                   0                0   \n",
       "...                   ...         ...                 ...              ...   \n",
       "263000018            1530        1509                   0                0   \n",
       "6600060120           1830        7200                   0                0   \n",
       "1523300141           1020        2007                   0                0   \n",
       "291310100            1410        1287                   0                0   \n",
       "1523300157           1020        1357                   0                0   \n",
       "\n",
       "            ...  grade_5 Fair  grade_6 Low Average  grade_7 Average  \\\n",
       "id          ...                                                       \n",
       "7129300520  ...             0                    0                1   \n",
       "6414100192  ...             0                    0                1   \n",
       "5631500400  ...             0                    1                0   \n",
       "2487200875  ...             0                    0                1   \n",
       "1954400510  ...             0                    0                0   \n",
       "...         ...           ...                  ...              ...   \n",
       "263000018   ...             0                    0                0   \n",
       "6600060120  ...             0                    0                0   \n",
       "1523300141  ...             0                    0                1   \n",
       "291310100   ...             0                    0                0   \n",
       "1523300157  ...             0                    0                1   \n",
       "\n",
       "            grade_8 Good  grade_9 Better  condition_Fair  condition_Good  \\\n",
       "id                                                                         \n",
       "7129300520             0               0               0               0   \n",
       "6414100192             0               0               0               0   \n",
       "5631500400             0               0               0               0   \n",
       "2487200875             0               0               0               0   \n",
       "1954400510             1               0               0               0   \n",
       "...                  ...             ...             ...             ...   \n",
       "263000018              1               0               0               0   \n",
       "6600060120             1               0               0               0   \n",
       "1523300141             0               0               0               0   \n",
       "291310100              1               0               0               0   \n",
       "1523300157             0               0               0               0   \n",
       "\n",
       "            condition_Poor  condition_Very Good  waterfront_YES  \n",
       "id                                                               \n",
       "7129300520               0                    0               0  \n",
       "6414100192               0                    0               0  \n",
       "5631500400               0                    0               0  \n",
       "2487200875               0                    1               0  \n",
       "1954400510               0                    0               0  \n",
       "...                    ...                  ...             ...  \n",
       "263000018                0                    0               0  \n",
       "6600060120               0                    0               0  \n",
       "1523300141               0                    0               0  \n",
       "291310100                0                    0               1  \n",
       "1523300157               0                    0               0  \n",
       "\n",
       "[21597 rows x 23 columns]"
      ]
     },
     "execution_count": 23,
     "metadata": {},
     "output_type": "execute_result"
    }
   ],
   "source": [
    "one_hot"
   ]
  },
  {
   "cell_type": "markdown",
   "metadata": {},
   "source": [
    "## Checking for Multicollinearity in our one_hot_encoded Data"
   ]
  },
  {
   "cell_type": "code",
   "execution_count": 24,
   "metadata": {},
   "outputs": [
    {
     "data": {
      "text/plain": [
       "<function matplotlib.pyplot.show(close=None, block=None)>"
      ]
     },
     "execution_count": 24,
     "metadata": {},
     "output_type": "execute_result"
    },
    {
     "data": {
      "image/png": "[encoded data removed]",
      "text/plain": [
       "<Figure size 864x864 with 2 Axes>"
      ]
     },
     "metadata": {
      "needs_background": "light"
     },
     "output_type": "display_data"
    }
   ],
   "source": [
    "fig,ax = plt.subplots(figsize =(12,12))\n",
    "sns.heatmap(one_hot.corr(),ax=ax)\n",
    "plt.savefig('Heat_map_showing_correlation.png')\n",
    "plt.show"
   ]
  },
  {
   "cell_type": "markdown",
   "metadata": {},
   "source": [
    "> dropping variables that are highly correalated with each other above 0.75\n"
   ]
  },
  {
   "cell_type": "code",
   "execution_count": 25,
   "metadata": {},
   "outputs": [],
   "source": [
    "corr_one_hot = one_hot.corr().abs().stack().reset_index().sort_values(0,ascending=False)\n",
    "corr_one_hot['pairs']=list(zip(corr_one_hot.level_0,corr_one_hot.level_1))\n",
    "corr_one_hot.set_index(['pairs'],inplace=True)\n",
    "corr_one_hot.drop(columns=['level_1', 'level_0'], inplace = True)\n",
    "corr_one_hot.columns = ['cc']\n",
    "corr_one_hot.drop_duplicates(inplace=True)"
   ]
  },
  {
   "cell_type": "code",
   "execution_count": 26,
   "metadata": {},
   "outputs": [
    {
     "data": {
      "text/html": [
       "<div>\n",
       "<style scoped>\n",
       "    .dataframe tbody tr th:only-of-type {\n",
       "        vertical-align: middle;\n",
       "    }\n",
       "\n",
       "    .dataframe tbody tr th {\n",
       "        vertical-align: top;\n",
       "    }\n",
       "\n",
       "    .dataframe thead th {\n",
       "        text-align: right;\n",
       "    }\n",
       "</style>\n",
       "<table border=\"1\" class=\"dataframe\">\n",
       "  <thead>\n",
       "    <tr style=\"text-align: right;\">\n",
       "      <th></th>\n",
       "      <th>cc</th>\n",
       "    </tr>\n",
       "    <tr>\n",
       "      <th>pairs</th>\n",
       "      <th></th>\n",
       "    </tr>\n",
       "  </thead>\n",
       "  <tbody>\n",
       "    <tr>\n",
       "      <th>(bedrooms, bedrooms)</th>\n",
       "      <td>1.000000</td>\n",
       "    </tr>\n",
       "    <tr>\n",
       "      <th>(sqft_living, sqft_above)</th>\n",
       "      <td>0.876448</td>\n",
       "    </tr>\n",
       "    <tr>\n",
       "      <th>(sqft_living15, sqft_living)</th>\n",
       "      <td>0.756402</td>\n",
       "    </tr>\n",
       "    <tr>\n",
       "      <th>(bathrooms, sqft_living)</th>\n",
       "      <td>0.755758</td>\n",
       "    </tr>\n",
       "    <tr>\n",
       "      <th>(sqft_above, sqft_living15)</th>\n",
       "      <td>0.731767</td>\n",
       "    </tr>\n",
       "    <tr>\n",
       "      <th>...</th>\n",
       "      <td>...</td>\n",
       "    </tr>\n",
       "    <tr>\n",
       "      <th>(grade_3 Poor, condition_Poor)</th>\n",
       "      <td>0.000250</td>\n",
       "    </tr>\n",
       "    <tr>\n",
       "      <th>(grade_3 Poor, grade_4 Low)</th>\n",
       "      <td>0.000241</td>\n",
       "    </tr>\n",
       "    <tr>\n",
       "      <th>(grade_4 Low, sqft_lot15)</th>\n",
       "      <td>0.000179</td>\n",
       "    </tr>\n",
       "    <tr>\n",
       "      <th>(grade_13 Mansion, grade_3 Poor)</th>\n",
       "      <td>0.000167</td>\n",
       "    </tr>\n",
       "    <tr>\n",
       "      <th>(grade_3 Poor, sqft_lot15)</th>\n",
       "      <td>0.000131</td>\n",
       "    </tr>\n",
       "  </tbody>\n",
       "</table>\n",
       "<p>254 rows × 1 columns</p>\n",
       "</div>"
      ],
      "text/plain": [
       "                                        cc\n",
       "pairs                                     \n",
       "(bedrooms, bedrooms)              1.000000\n",
       "(sqft_living, sqft_above)         0.876448\n",
       "(sqft_living15, sqft_living)      0.756402\n",
       "(bathrooms, sqft_living)          0.755758\n",
       "(sqft_above, sqft_living15)       0.731767\n",
       "...                                    ...\n",
       "(grade_3 Poor, condition_Poor)    0.000250\n",
       "(grade_3 Poor, grade_4 Low)       0.000241\n",
       "(grade_4 Low, sqft_lot15)         0.000179\n",
       "(grade_13 Mansion, grade_3 Poor)  0.000167\n",
       "(grade_3 Poor, sqft_lot15)        0.000131\n",
       "\n",
       "[254 rows x 1 columns]"
      ]
     },
     "execution_count": 26,
     "metadata": {},
     "output_type": "execute_result"
    }
   ],
   "source": [
    "corr_one_hot"
   ]
  },
  {
   "cell_type": "code",
   "execution_count": 27,
   "metadata": {},
   "outputs": [
    {
     "data": {
      "text/html": [
       "<div>\n",
       "<style scoped>\n",
       "    .dataframe tbody tr th:only-of-type {\n",
       "        vertical-align: middle;\n",
       "    }\n",
       "\n",
       "    .dataframe tbody tr th {\n",
       "        vertical-align: top;\n",
       "    }\n",
       "\n",
       "    .dataframe thead th {\n",
       "        text-align: right;\n",
       "    }\n",
       "</style>\n",
       "<table border=\"1\" class=\"dataframe\">\n",
       "  <thead>\n",
       "    <tr style=\"text-align: right;\">\n",
       "      <th></th>\n",
       "      <th>cc</th>\n",
       "    </tr>\n",
       "    <tr>\n",
       "      <th>pairs</th>\n",
       "      <th></th>\n",
       "    </tr>\n",
       "  </thead>\n",
       "  <tbody>\n",
       "    <tr>\n",
       "      <th>(sqft_living, sqft_above)</th>\n",
       "      <td>0.876448</td>\n",
       "    </tr>\n",
       "    <tr>\n",
       "      <th>(sqft_living15, sqft_living)</th>\n",
       "      <td>0.756402</td>\n",
       "    </tr>\n",
       "    <tr>\n",
       "      <th>(bathrooms, sqft_living)</th>\n",
       "      <td>0.755758</td>\n",
       "    </tr>\n",
       "  </tbody>\n",
       "</table>\n",
       "</div>"
      ],
      "text/plain": [
       "                                    cc\n",
       "pairs                                 \n",
       "(sqft_living, sqft_above)     0.876448\n",
       "(sqft_living15, sqft_living)  0.756402\n",
       "(bathrooms, sqft_living)      0.755758"
      ]
     },
     "execution_count": 27,
     "metadata": {},
     "output_type": "execute_result"
    }
   ],
   "source": [
    "corr_one_hot[(corr_one_hot.cc>0.75) & (corr_one_hot.cc < 1)]"
   ]
  },
  {
   "cell_type": "code",
   "execution_count": 28,
   "metadata": {},
   "outputs": [
    {
     "data": {
      "text/plain": [
       "price            1.000000\n",
       "bedrooms         0.308787\n",
       "bathrooms        0.525906\n",
       "sqft_living      0.701917\n",
       "sqft_lot         0.089876\n",
       "floors           0.256804\n",
       "sqft_above       0.605368\n",
       "sqft_basement    0.321108\n",
       "yr_built         0.053953\n",
       "yr_renovated     0.117855\n",
       "zipcode         -0.053402\n",
       "lat              0.306692\n",
       "long             0.022036\n",
       "sqft_living15    0.585241\n",
       "sqft_lot15       0.082845\n",
       "Name: price, dtype: float64"
      ]
     },
     "execution_count": 28,
     "metadata": {},
     "output_type": "execute_result"
    }
   ],
   "source": [
    "df.corr()['price']"
   ]
  },
  {
   "cell_type": "markdown",
   "metadata": {},
   "source": [
    "> `sqft_living` highly correlates with `price` than `sqft_above`, `bathrooms` and `sqft_living15`. \n",
    "\n",
    "\n",
    "> So let's drop `sqft_above` and `sqft_living15`.\n"
   ]
  },
  {
   "cell_type": "code",
   "execution_count": 29,
   "metadata": {},
   "outputs": [],
   "source": [
    "X = one_hot.drop(columns=['sqft_living15','sqft_above'],axis=1)\n",
    "y = df['price']"
   ]
  },
  {
   "cell_type": "markdown",
   "metadata": {},
   "source": [
    "> We checked for linearity by plotting the scatter plots against our target varible(price) and choosing those that followed\n",
    "linearity.\n",
    "\n",
    "\n",
    "> We also checked for multicollinearity and dropped the variable that highly correlated with each other ."
   ]
  },
  {
   "cell_type": "markdown",
   "metadata": {},
   "source": [
    "#### Thats it for our data understanding and preparation. Let's feed the newly prepared data to our Model."
   ]
  },
  {
   "cell_type": "markdown",
   "metadata": {},
   "source": [
    "## Modelling"
   ]
  },
  {
   "cell_type": "code",
   "execution_count": 30,
   "metadata": {},
   "outputs": [
    {
     "name": "stderr",
     "output_type": "stream",
     "text": [
      "C:\\Users\\hp\\anaconda3\\envs\\learn-env\\lib\\site-packages\\statsmodels\\tsa\\tsatools.py:142: FutureWarning: In a future version of pandas all arguments of concat except for the argument 'objs' will be keyword-only.\n",
      "  x = pd.concat(x[::order], 1)\n"
     ]
    },
    {
     "data": {
      "text/html": [
       "<table class=\"simpletable\">\n",
       "<caption>OLS Regression Results</caption>\n",
       "<tr>\n",
       "  <th>Dep. Variable:</th>          <td>price</td>      <th>  R-squared:         </th>  <td>   0.626</td>  \n",
       "</tr>\n",
       "<tr>\n",
       "  <th>Model:</th>                   <td>OLS</td>       <th>  Adj. R-squared:    </th>  <td>   0.626</td>  \n",
       "</tr>\n",
       "<tr>\n",
       "  <th>Method:</th>             <td>Least Squares</td>  <th>  F-statistic:       </th>  <td>   1723.</td>  \n",
       "</tr>\n",
       "<tr>\n",
       "  <th>Date:</th>             <td>Sun, 08 Oct 2023</td> <th>  Prob (F-statistic):</th>   <td>  0.00</td>   \n",
       "</tr>\n",
       "<tr>\n",
       "  <th>Time:</th>                 <td>22:31:14</td>     <th>  Log-Likelihood:    </th> <td>-2.9676e+05</td>\n",
       "</tr>\n",
       "<tr>\n",
       "  <th>No. Observations:</th>      <td> 21597</td>      <th>  AIC:               </th>  <td>5.936e+05</td> \n",
       "</tr>\n",
       "<tr>\n",
       "  <th>Df Residuals:</th>          <td> 21575</td>      <th>  BIC:               </th>  <td>5.937e+05</td> \n",
       "</tr>\n",
       "<tr>\n",
       "  <th>Df Model:</th>              <td>    21</td>      <th>                     </th>      <td> </td>     \n",
       "</tr>\n",
       "<tr>\n",
       "  <th>Covariance Type:</th>      <td>nonrobust</td>    <th>                     </th>      <td> </td>     \n",
       "</tr>\n",
       "</table>\n",
       "<table class=\"simpletable\">\n",
       "<tr>\n",
       "           <td></td>              <th>coef</th>     <th>std err</th>      <th>t</th>      <th>P>|t|</th>  <th>[0.025</th>    <th>0.975]</th>  \n",
       "</tr>\n",
       "<tr>\n",
       "  <th>const</th>               <td> 5.631e+05</td> <td> 1.33e+04</td> <td>   42.471</td> <td> 0.000</td> <td> 5.37e+05</td> <td> 5.89e+05</td>\n",
       "</tr>\n",
       "<tr>\n",
       "  <th>bedrooms</th>            <td>-2.336e+04</td> <td> 2149.230</td> <td>  -10.868</td> <td> 0.000</td> <td>-2.76e+04</td> <td>-1.91e+04</td>\n",
       "</tr>\n",
       "<tr>\n",
       "  <th>bathrooms</th>           <td> 1797.5019</td> <td> 3430.208</td> <td>    0.524</td> <td> 0.600</td> <td>-4925.959</td> <td> 8520.963</td>\n",
       "</tr>\n",
       "<tr>\n",
       "  <th>sqft_living</th>         <td>  169.1619</td> <td>    3.516</td> <td>   48.117</td> <td> 0.000</td> <td>  162.271</td> <td>  176.053</td>\n",
       "</tr>\n",
       "<tr>\n",
       "  <th>sqft_lot</th>            <td>   -0.0086</td> <td>    0.053</td> <td>   -0.162</td> <td> 0.871</td> <td>   -0.113</td> <td>    0.096</td>\n",
       "</tr>\n",
       "<tr>\n",
       "  <th>floors</th>              <td>-8981.4644</td> <td> 3538.642</td> <td>   -2.538</td> <td> 0.011</td> <td>-1.59e+04</td> <td>-2045.464</td>\n",
       "</tr>\n",
       "<tr>\n",
       "  <th>sqft_lot15</th>          <td>   -0.7514</td> <td>    0.081</td> <td>   -9.265</td> <td> 0.000</td> <td>   -0.910</td> <td>   -0.592</td>\n",
       "</tr>\n",
       "<tr>\n",
       "  <th>grade_11 Excellent</th>  <td> 2.763e+05</td> <td> 1.33e+04</td> <td>   20.748</td> <td> 0.000</td> <td>  2.5e+05</td> <td> 3.02e+05</td>\n",
       "</tr>\n",
       "<tr>\n",
       "  <th>grade_12 Luxury</th>     <td> 7.625e+05</td> <td> 2.54e+04</td> <td>   30.001</td> <td> 0.000</td> <td> 7.13e+05</td> <td> 8.12e+05</td>\n",
       "</tr>\n",
       "<tr>\n",
       "  <th>grade_13 Mansion</th>    <td> 2.014e+06</td> <td> 6.37e+04</td> <td>   31.598</td> <td> 0.000</td> <td> 1.89e+06</td> <td> 2.14e+06</td>\n",
       "</tr>\n",
       "<tr>\n",
       "  <th>grade_3 Poor</th>        <td>-4.898e+05</td> <td> 2.25e+05</td> <td>   -2.177</td> <td> 0.029</td> <td>-9.31e+05</td> <td>-4.88e+04</td>\n",
       "</tr>\n",
       "<tr>\n",
       "  <th>grade_4 Low</th>         <td>-4.353e+05</td> <td> 4.46e+04</td> <td>   -9.767</td> <td> 0.000</td> <td>-5.23e+05</td> <td>-3.48e+05</td>\n",
       "</tr>\n",
       "<tr>\n",
       "  <th>grade_5 Fair</th>        <td> -4.58e+05</td> <td> 1.76e+04</td> <td>  -25.989</td> <td> 0.000</td> <td>-4.93e+05</td> <td>-4.24e+05</td>\n",
       "</tr>\n",
       "<tr>\n",
       "  <th>grade_6 Low Average</th> <td>-4.249e+05</td> <td> 1.08e+04</td> <td>  -39.387</td> <td> 0.000</td> <td>-4.46e+05</td> <td>-4.04e+05</td>\n",
       "</tr>\n",
       "<tr>\n",
       "  <th>grade_7 Average</th>     <td> -3.87e+05</td> <td> 8936.557</td> <td>  -43.301</td> <td> 0.000</td> <td>-4.04e+05</td> <td>-3.69e+05</td>\n",
       "</tr>\n",
       "<tr>\n",
       "  <th>grade_8 Good</th>        <td>-3.158e+05</td> <td> 8218.204</td> <td>  -38.422</td> <td> 0.000</td> <td>-3.32e+05</td> <td>   -3e+05</td>\n",
       "</tr>\n",
       "<tr>\n",
       "  <th>grade_9 Better</th>      <td>-1.853e+05</td> <td> 8214.146</td> <td>  -22.562</td> <td> 0.000</td> <td>-2.01e+05</td> <td>-1.69e+05</td>\n",
       "</tr>\n",
       "<tr>\n",
       "  <th>condition_Fair</th>      <td> 5487.0931</td> <td> 1.75e+04</td> <td>    0.313</td> <td> 0.754</td> <td>-2.89e+04</td> <td> 3.98e+04</td>\n",
       "</tr>\n",
       "<tr>\n",
       "  <th>condition_Good</th>      <td> 5.801e+04</td> <td> 3718.039</td> <td>   15.603</td> <td> 0.000</td> <td> 5.07e+04</td> <td> 6.53e+04</td>\n",
       "</tr>\n",
       "<tr>\n",
       "  <th>condition_Poor</th>      <td> 3.862e+04</td> <td> 4.21e+04</td> <td>    0.918</td> <td> 0.359</td> <td>-4.39e+04</td> <td> 1.21e+05</td>\n",
       "</tr>\n",
       "<tr>\n",
       "  <th>condition_Very Good</th> <td>  1.41e+05</td> <td> 5895.730</td> <td>   23.921</td> <td> 0.000</td> <td> 1.29e+05</td> <td> 1.53e+05</td>\n",
       "</tr>\n",
       "<tr>\n",
       "  <th>waterfront_YES</th>      <td> 6.834e+05</td> <td> 1.77e+04</td> <td>   38.519</td> <td> 0.000</td> <td> 6.49e+05</td> <td> 7.18e+05</td>\n",
       "</tr>\n",
       "</table>\n",
       "<table class=\"simpletable\">\n",
       "<tr>\n",
       "  <th>Omnibus:</th>       <td>11655.510</td> <th>  Durbin-Watson:     </th>  <td>   1.984</td> \n",
       "</tr>\n",
       "<tr>\n",
       "  <th>Prob(Omnibus):</th>  <td> 0.000</td>   <th>  Jarque-Bera (JB):  </th> <td>296524.157</td>\n",
       "</tr>\n",
       "<tr>\n",
       "  <th>Skew:</th>           <td> 2.083</td>   <th>  Prob(JB):          </th>  <td>    0.00</td> \n",
       "</tr>\n",
       "<tr>\n",
       "  <th>Kurtosis:</th>       <td>20.668</td>   <th>  Cond. No.          </th>  <td>7.44e+06</td> \n",
       "</tr>\n",
       "</table><br/><br/>Notes:<br/>[1] Standard Errors assume that the covariance matrix of the errors is correctly specified.<br/>[2] The condition number is large, 7.44e+06. This might indicate that there are<br/>strong multicollinearity or other numerical problems."
      ],
      "text/plain": [
       "<class 'statsmodels.iolib.summary.Summary'>\n",
       "\"\"\"\n",
       "                            OLS Regression Results                            \n",
       "==============================================================================\n",
       "Dep. Variable:                  price   R-squared:                       0.626\n",
       "Model:                            OLS   Adj. R-squared:                  0.626\n",
       "Method:                 Least Squares   F-statistic:                     1723.\n",
       "Date:                Sun, 08 Oct 2023   Prob (F-statistic):               0.00\n",
       "Time:                        22:31:14   Log-Likelihood:            -2.9676e+05\n",
       "No. Observations:               21597   AIC:                         5.936e+05\n",
       "Df Residuals:                   21575   BIC:                         5.937e+05\n",
       "Df Model:                          21                                         \n",
       "Covariance Type:            nonrobust                                         \n",
       "=======================================================================================\n",
       "                          coef    std err          t      P>|t|      [0.025      0.975]\n",
       "---------------------------------------------------------------------------------------\n",
       "const                5.631e+05   1.33e+04     42.471      0.000    5.37e+05    5.89e+05\n",
       "bedrooms            -2.336e+04   2149.230    -10.868      0.000   -2.76e+04   -1.91e+04\n",
       "bathrooms            1797.5019   3430.208      0.524      0.600   -4925.959    8520.963\n",
       "sqft_living           169.1619      3.516     48.117      0.000     162.271     176.053\n",
       "sqft_lot               -0.0086      0.053     -0.162      0.871      -0.113       0.096\n",
       "floors              -8981.4644   3538.642     -2.538      0.011   -1.59e+04   -2045.464\n",
       "sqft_lot15             -0.7514      0.081     -9.265      0.000      -0.910      -0.592\n",
       "grade_11 Excellent   2.763e+05   1.33e+04     20.748      0.000     2.5e+05    3.02e+05\n",
       "grade_12 Luxury      7.625e+05   2.54e+04     30.001      0.000    7.13e+05    8.12e+05\n",
       "grade_13 Mansion     2.014e+06   6.37e+04     31.598      0.000    1.89e+06    2.14e+06\n",
       "grade_3 Poor        -4.898e+05   2.25e+05     -2.177      0.029   -9.31e+05   -4.88e+04\n",
       "grade_4 Low         -4.353e+05   4.46e+04     -9.767      0.000   -5.23e+05   -3.48e+05\n",
       "grade_5 Fair         -4.58e+05   1.76e+04    -25.989      0.000   -4.93e+05   -4.24e+05\n",
       "grade_6 Low Average -4.249e+05   1.08e+04    -39.387      0.000   -4.46e+05   -4.04e+05\n",
       "grade_7 Average      -3.87e+05   8936.557    -43.301      0.000   -4.04e+05   -3.69e+05\n",
       "grade_8 Good        -3.158e+05   8218.204    -38.422      0.000   -3.32e+05      -3e+05\n",
       "grade_9 Better      -1.853e+05   8214.146    -22.562      0.000   -2.01e+05   -1.69e+05\n",
       "condition_Fair       5487.0931   1.75e+04      0.313      0.754   -2.89e+04    3.98e+04\n",
       "condition_Good       5.801e+04   3718.039     15.603      0.000    5.07e+04    6.53e+04\n",
       "condition_Poor       3.862e+04   4.21e+04      0.918      0.359   -4.39e+04    1.21e+05\n",
       "condition_Very Good   1.41e+05   5895.730     23.921      0.000    1.29e+05    1.53e+05\n",
       "waterfront_YES       6.834e+05   1.77e+04     38.519      0.000    6.49e+05    7.18e+05\n",
       "==============================================================================\n",
       "Omnibus:                    11655.510   Durbin-Watson:                   1.984\n",
       "Prob(Omnibus):                  0.000   Jarque-Bera (JB):           296524.157\n",
       "Skew:                           2.083   Prob(JB):                         0.00\n",
       "Kurtosis:                      20.668   Cond. No.                     7.44e+06\n",
       "==============================================================================\n",
       "\n",
       "Notes:\n",
       "[1] Standard Errors assume that the covariance matrix of the errors is correctly specified.\n",
       "[2] The condition number is large, 7.44e+06. This might indicate that there are\n",
       "strong multicollinearity or other numerical problems.\n",
       "\"\"\""
      ]
     },
     "execution_count": 30,
     "metadata": {},
     "output_type": "execute_result"
    }
   ],
   "source": [
    "model = sm.OLS(y,sm.add_constant(X))\n",
    "results = model.fit()\n",
    "results.summary()"
   ]
  },
  {
   "cell_type": "markdown",
   "metadata": {},
   "source": [
    ">  Let's proceed to drop the independent variables which have pvalues of above **0.05** since they are not statistically significant in predicting our target variable."
   ]
  },
  {
   "cell_type": "code",
   "execution_count": 31,
   "metadata": {},
   "outputs": [],
   "source": [
    "X_new = X.drop(columns=['sqft_lot','condition_Fair','condition_Poor'],axis=1)"
   ]
  },
  {
   "cell_type": "code",
   "execution_count": 32,
   "metadata": {},
   "outputs": [
    {
     "data": {
      "text/html": [
       "<div>\n",
       "<style scoped>\n",
       "    .dataframe tbody tr th:only-of-type {\n",
       "        vertical-align: middle;\n",
       "    }\n",
       "\n",
       "    .dataframe tbody tr th {\n",
       "        vertical-align: top;\n",
       "    }\n",
       "\n",
       "    .dataframe thead th {\n",
       "        text-align: right;\n",
       "    }\n",
       "</style>\n",
       "<table border=\"1\" class=\"dataframe\">\n",
       "  <thead>\n",
       "    <tr style=\"text-align: right;\">\n",
       "      <th></th>\n",
       "      <th>bedrooms</th>\n",
       "      <th>bathrooms</th>\n",
       "      <th>sqft_living</th>\n",
       "      <th>floors</th>\n",
       "      <th>sqft_lot15</th>\n",
       "      <th>grade_11 Excellent</th>\n",
       "      <th>grade_12 Luxury</th>\n",
       "      <th>grade_13 Mansion</th>\n",
       "      <th>grade_3 Poor</th>\n",
       "      <th>grade_4 Low</th>\n",
       "      <th>grade_5 Fair</th>\n",
       "      <th>grade_6 Low Average</th>\n",
       "      <th>grade_7 Average</th>\n",
       "      <th>grade_8 Good</th>\n",
       "      <th>grade_9 Better</th>\n",
       "      <th>condition_Good</th>\n",
       "      <th>condition_Very Good</th>\n",
       "      <th>waterfront_YES</th>\n",
       "    </tr>\n",
       "    <tr>\n",
       "      <th>id</th>\n",
       "      <th></th>\n",
       "      <th></th>\n",
       "      <th></th>\n",
       "      <th></th>\n",
       "      <th></th>\n",
       "      <th></th>\n",
       "      <th></th>\n",
       "      <th></th>\n",
       "      <th></th>\n",
       "      <th></th>\n",
       "      <th></th>\n",
       "      <th></th>\n",
       "      <th></th>\n",
       "      <th></th>\n",
       "      <th></th>\n",
       "      <th></th>\n",
       "      <th></th>\n",
       "      <th></th>\n",
       "    </tr>\n",
       "  </thead>\n",
       "  <tbody>\n",
       "    <tr>\n",
       "      <th>7129300520</th>\n",
       "      <td>3</td>\n",
       "      <td>1.00</td>\n",
       "      <td>1180</td>\n",
       "      <td>1.0</td>\n",
       "      <td>5650</td>\n",
       "      <td>0</td>\n",
       "      <td>0</td>\n",
       "      <td>0</td>\n",
       "      <td>0</td>\n",
       "      <td>0</td>\n",
       "      <td>0</td>\n",
       "      <td>0</td>\n",
       "      <td>1</td>\n",
       "      <td>0</td>\n",
       "      <td>0</td>\n",
       "      <td>0</td>\n",
       "      <td>0</td>\n",
       "      <td>0</td>\n",
       "    </tr>\n",
       "    <tr>\n",
       "      <th>6414100192</th>\n",
       "      <td>3</td>\n",
       "      <td>2.25</td>\n",
       "      <td>2570</td>\n",
       "      <td>2.0</td>\n",
       "      <td>7639</td>\n",
       "      <td>0</td>\n",
       "      <td>0</td>\n",
       "      <td>0</td>\n",
       "      <td>0</td>\n",
       "      <td>0</td>\n",
       "      <td>0</td>\n",
       "      <td>0</td>\n",
       "      <td>1</td>\n",
       "      <td>0</td>\n",
       "      <td>0</td>\n",
       "      <td>0</td>\n",
       "      <td>0</td>\n",
       "      <td>0</td>\n",
       "    </tr>\n",
       "    <tr>\n",
       "      <th>5631500400</th>\n",
       "      <td>2</td>\n",
       "      <td>1.00</td>\n",
       "      <td>770</td>\n",
       "      <td>1.0</td>\n",
       "      <td>8062</td>\n",
       "      <td>0</td>\n",
       "      <td>0</td>\n",
       "      <td>0</td>\n",
       "      <td>0</td>\n",
       "      <td>0</td>\n",
       "      <td>0</td>\n",
       "      <td>1</td>\n",
       "      <td>0</td>\n",
       "      <td>0</td>\n",
       "      <td>0</td>\n",
       "      <td>0</td>\n",
       "      <td>0</td>\n",
       "      <td>0</td>\n",
       "    </tr>\n",
       "    <tr>\n",
       "      <th>2487200875</th>\n",
       "      <td>4</td>\n",
       "      <td>3.00</td>\n",
       "      <td>1960</td>\n",
       "      <td>1.0</td>\n",
       "      <td>5000</td>\n",
       "      <td>0</td>\n",
       "      <td>0</td>\n",
       "      <td>0</td>\n",
       "      <td>0</td>\n",
       "      <td>0</td>\n",
       "      <td>0</td>\n",
       "      <td>0</td>\n",
       "      <td>1</td>\n",
       "      <td>0</td>\n",
       "      <td>0</td>\n",
       "      <td>0</td>\n",
       "      <td>1</td>\n",
       "      <td>0</td>\n",
       "    </tr>\n",
       "    <tr>\n",
       "      <th>1954400510</th>\n",
       "      <td>3</td>\n",
       "      <td>2.00</td>\n",
       "      <td>1680</td>\n",
       "      <td>1.0</td>\n",
       "      <td>7503</td>\n",
       "      <td>0</td>\n",
       "      <td>0</td>\n",
       "      <td>0</td>\n",
       "      <td>0</td>\n",
       "      <td>0</td>\n",
       "      <td>0</td>\n",
       "      <td>0</td>\n",
       "      <td>0</td>\n",
       "      <td>1</td>\n",
       "      <td>0</td>\n",
       "      <td>0</td>\n",
       "      <td>0</td>\n",
       "      <td>0</td>\n",
       "    </tr>\n",
       "    <tr>\n",
       "      <th>...</th>\n",
       "      <td>...</td>\n",
       "      <td>...</td>\n",
       "      <td>...</td>\n",
       "      <td>...</td>\n",
       "      <td>...</td>\n",
       "      <td>...</td>\n",
       "      <td>...</td>\n",
       "      <td>...</td>\n",
       "      <td>...</td>\n",
       "      <td>...</td>\n",
       "      <td>...</td>\n",
       "      <td>...</td>\n",
       "      <td>...</td>\n",
       "      <td>...</td>\n",
       "      <td>...</td>\n",
       "      <td>...</td>\n",
       "      <td>...</td>\n",
       "      <td>...</td>\n",
       "    </tr>\n",
       "    <tr>\n",
       "      <th>263000018</th>\n",
       "      <td>3</td>\n",
       "      <td>2.50</td>\n",
       "      <td>1530</td>\n",
       "      <td>3.0</td>\n",
       "      <td>1509</td>\n",
       "      <td>0</td>\n",
       "      <td>0</td>\n",
       "      <td>0</td>\n",
       "      <td>0</td>\n",
       "      <td>0</td>\n",
       "      <td>0</td>\n",
       "      <td>0</td>\n",
       "      <td>0</td>\n",
       "      <td>1</td>\n",
       "      <td>0</td>\n",
       "      <td>0</td>\n",
       "      <td>0</td>\n",
       "      <td>0</td>\n",
       "    </tr>\n",
       "    <tr>\n",
       "      <th>6600060120</th>\n",
       "      <td>4</td>\n",
       "      <td>2.50</td>\n",
       "      <td>2310</td>\n",
       "      <td>2.0</td>\n",
       "      <td>7200</td>\n",
       "      <td>0</td>\n",
       "      <td>0</td>\n",
       "      <td>0</td>\n",
       "      <td>0</td>\n",
       "      <td>0</td>\n",
       "      <td>0</td>\n",
       "      <td>0</td>\n",
       "      <td>0</td>\n",
       "      <td>1</td>\n",
       "      <td>0</td>\n",
       "      <td>0</td>\n",
       "      <td>0</td>\n",
       "      <td>0</td>\n",
       "    </tr>\n",
       "    <tr>\n",
       "      <th>1523300141</th>\n",
       "      <td>2</td>\n",
       "      <td>0.75</td>\n",
       "      <td>1020</td>\n",
       "      <td>2.0</td>\n",
       "      <td>2007</td>\n",
       "      <td>0</td>\n",
       "      <td>0</td>\n",
       "      <td>0</td>\n",
       "      <td>0</td>\n",
       "      <td>0</td>\n",
       "      <td>0</td>\n",
       "      <td>0</td>\n",
       "      <td>1</td>\n",
       "      <td>0</td>\n",
       "      <td>0</td>\n",
       "      <td>0</td>\n",
       "      <td>0</td>\n",
       "      <td>0</td>\n",
       "    </tr>\n",
       "    <tr>\n",
       "      <th>291310100</th>\n",
       "      <td>3</td>\n",
       "      <td>2.50</td>\n",
       "      <td>1600</td>\n",
       "      <td>2.0</td>\n",
       "      <td>1287</td>\n",
       "      <td>0</td>\n",
       "      <td>0</td>\n",
       "      <td>0</td>\n",
       "      <td>0</td>\n",
       "      <td>0</td>\n",
       "      <td>0</td>\n",
       "      <td>0</td>\n",
       "      <td>0</td>\n",
       "      <td>1</td>\n",
       "      <td>0</td>\n",
       "      <td>0</td>\n",
       "      <td>0</td>\n",
       "      <td>1</td>\n",
       "    </tr>\n",
       "    <tr>\n",
       "      <th>1523300157</th>\n",
       "      <td>2</td>\n",
       "      <td>0.75</td>\n",
       "      <td>1020</td>\n",
       "      <td>2.0</td>\n",
       "      <td>1357</td>\n",
       "      <td>0</td>\n",
       "      <td>0</td>\n",
       "      <td>0</td>\n",
       "      <td>0</td>\n",
       "      <td>0</td>\n",
       "      <td>0</td>\n",
       "      <td>0</td>\n",
       "      <td>1</td>\n",
       "      <td>0</td>\n",
       "      <td>0</td>\n",
       "      <td>0</td>\n",
       "      <td>0</td>\n",
       "      <td>0</td>\n",
       "    </tr>\n",
       "  </tbody>\n",
       "</table>\n",
       "<p>21597 rows × 18 columns</p>\n",
       "</div>"
      ],
      "text/plain": [
       "            bedrooms  bathrooms  sqft_living  floors  sqft_lot15  \\\n",
       "id                                                                 \n",
       "7129300520         3       1.00         1180     1.0        5650   \n",
       "6414100192         3       2.25         2570     2.0        7639   \n",
       "5631500400         2       1.00          770     1.0        8062   \n",
       "2487200875         4       3.00         1960     1.0        5000   \n",
       "1954400510         3       2.00         1680     1.0        7503   \n",
       "...              ...        ...          ...     ...         ...   \n",
       "263000018          3       2.50         1530     3.0        1509   \n",
       "6600060120         4       2.50         2310     2.0        7200   \n",
       "1523300141         2       0.75         1020     2.0        2007   \n",
       "291310100          3       2.50         1600     2.0        1287   \n",
       "1523300157         2       0.75         1020     2.0        1357   \n",
       "\n",
       "            grade_11 Excellent  grade_12 Luxury  grade_13 Mansion  \\\n",
       "id                                                                  \n",
       "7129300520                   0                0                 0   \n",
       "6414100192                   0                0                 0   \n",
       "5631500400                   0                0                 0   \n",
       "2487200875                   0                0                 0   \n",
       "1954400510                   0                0                 0   \n",
       "...                        ...              ...               ...   \n",
       "263000018                    0                0                 0   \n",
       "6600060120                   0                0                 0   \n",
       "1523300141                   0                0                 0   \n",
       "291310100                    0                0                 0   \n",
       "1523300157                   0                0                 0   \n",
       "\n",
       "            grade_3 Poor  grade_4 Low  grade_5 Fair  grade_6 Low Average  \\\n",
       "id                                                                         \n",
       "7129300520             0            0             0                    0   \n",
       "6414100192             0            0             0                    0   \n",
       "5631500400             0            0             0                    1   \n",
       "2487200875             0            0             0                    0   \n",
       "1954400510             0            0             0                    0   \n",
       "...                  ...          ...           ...                  ...   \n",
       "263000018              0            0             0                    0   \n",
       "6600060120             0            0             0                    0   \n",
       "1523300141             0            0             0                    0   \n",
       "291310100              0            0             0                    0   \n",
       "1523300157             0            0             0                    0   \n",
       "\n",
       "            grade_7 Average  grade_8 Good  grade_9 Better  condition_Good  \\\n",
       "id                                                                          \n",
       "7129300520                1             0               0               0   \n",
       "6414100192                1             0               0               0   \n",
       "5631500400                0             0               0               0   \n",
       "2487200875                1             0               0               0   \n",
       "1954400510                0             1               0               0   \n",
       "...                     ...           ...             ...             ...   \n",
       "263000018                 0             1               0               0   \n",
       "6600060120                0             1               0               0   \n",
       "1523300141                1             0               0               0   \n",
       "291310100                 0             1               0               0   \n",
       "1523300157                1             0               0               0   \n",
       "\n",
       "            condition_Very Good  waterfront_YES  \n",
       "id                                               \n",
       "7129300520                    0               0  \n",
       "6414100192                    0               0  \n",
       "5631500400                    0               0  \n",
       "2487200875                    1               0  \n",
       "1954400510                    0               0  \n",
       "...                         ...             ...  \n",
       "263000018                     0               0  \n",
       "6600060120                    0               0  \n",
       "1523300141                    0               0  \n",
       "291310100                     0               1  \n",
       "1523300157                    0               0  \n",
       "\n",
       "[21597 rows x 18 columns]"
      ]
     },
     "execution_count": 32,
     "metadata": {},
     "output_type": "execute_result"
    }
   ],
   "source": [
    "X_new"
   ]
  },
  {
   "cell_type": "code",
   "execution_count": 33,
   "metadata": {},
   "outputs": [
    {
     "name": "stderr",
     "output_type": "stream",
     "text": [
      "C:\\Users\\hp\\anaconda3\\envs\\learn-env\\lib\\site-packages\\statsmodels\\tsa\\tsatools.py:142: FutureWarning: In a future version of pandas all arguments of concat except for the argument 'objs' will be keyword-only.\n",
      "  x = pd.concat(x[::order], 1)\n"
     ]
    },
    {
     "data": {
      "text/html": [
       "<table class=\"simpletable\">\n",
       "<caption>OLS Regression Results</caption>\n",
       "<tr>\n",
       "  <th>Dep. Variable:</th>          <td>price</td>      <th>  R-squared:         </th>  <td>   0.626</td>  \n",
       "</tr>\n",
       "<tr>\n",
       "  <th>Model:</th>                   <td>OLS</td>       <th>  Adj. R-squared:    </th>  <td>   0.626</td>  \n",
       "</tr>\n",
       "<tr>\n",
       "  <th>Method:</th>             <td>Least Squares</td>  <th>  F-statistic:       </th>  <td>   2010.</td>  \n",
       "</tr>\n",
       "<tr>\n",
       "  <th>Date:</th>             <td>Sun, 08 Oct 2023</td> <th>  Prob (F-statistic):</th>   <td>  0.00</td>   \n",
       "</tr>\n",
       "<tr>\n",
       "  <th>Time:</th>                 <td>22:31:14</td>     <th>  Log-Likelihood:    </th> <td>-2.9676e+05</td>\n",
       "</tr>\n",
       "<tr>\n",
       "  <th>No. Observations:</th>      <td> 21597</td>      <th>  AIC:               </th>  <td>5.936e+05</td> \n",
       "</tr>\n",
       "<tr>\n",
       "  <th>Df Residuals:</th>          <td> 21578</td>      <th>  BIC:               </th>  <td>5.937e+05</td> \n",
       "</tr>\n",
       "<tr>\n",
       "  <th>Df Model:</th>              <td>    18</td>      <th>                     </th>      <td> </td>     \n",
       "</tr>\n",
       "<tr>\n",
       "  <th>Covariance Type:</th>      <td>nonrobust</td>    <th>                     </th>      <td> </td>     \n",
       "</tr>\n",
       "</table>\n",
       "<table class=\"simpletable\">\n",
       "<tr>\n",
       "           <td></td>              <th>coef</th>     <th>std err</th>      <th>t</th>      <th>P>|t|</th>  <th>[0.025</th>    <th>0.975]</th>  \n",
       "</tr>\n",
       "<tr>\n",
       "  <th>const</th>               <td> 5.633e+05</td> <td> 1.33e+04</td> <td>   42.511</td> <td> 0.000</td> <td> 5.37e+05</td> <td> 5.89e+05</td>\n",
       "</tr>\n",
       "<tr>\n",
       "  <th>bedrooms</th>            <td>-2.335e+04</td> <td> 2148.636</td> <td>  -10.870</td> <td> 0.000</td> <td>-2.76e+04</td> <td>-1.91e+04</td>\n",
       "</tr>\n",
       "<tr>\n",
       "  <th>bathrooms</th>           <td> 1735.7105</td> <td> 3429.144</td> <td>    0.506</td> <td> 0.613</td> <td>-4985.665</td> <td> 8457.086</td>\n",
       "</tr>\n",
       "<tr>\n",
       "  <th>sqft_living</th>         <td>  169.1690</td> <td>    3.512</td> <td>   48.165</td> <td> 0.000</td> <td>  162.285</td> <td>  176.053</td>\n",
       "</tr>\n",
       "<tr>\n",
       "  <th>floors</th>              <td>-9026.5183</td> <td> 3536.505</td> <td>   -2.552</td> <td> 0.011</td> <td> -1.6e+04</td> <td>-2094.707</td>\n",
       "</tr>\n",
       "<tr>\n",
       "  <th>sqft_lot15</th>          <td>   -0.7605</td> <td>    0.058</td> <td>  -13.200</td> <td> 0.000</td> <td>   -0.873</td> <td>   -0.648</td>\n",
       "</tr>\n",
       "<tr>\n",
       "  <th>grade_11 Excellent</th>  <td> 2.763e+05</td> <td> 1.33e+04</td> <td>   20.748</td> <td> 0.000</td> <td>  2.5e+05</td> <td> 3.02e+05</td>\n",
       "</tr>\n",
       "<tr>\n",
       "  <th>grade_12 Luxury</th>     <td> 7.624e+05</td> <td> 2.54e+04</td> <td>   30.001</td> <td> 0.000</td> <td> 7.13e+05</td> <td> 8.12e+05</td>\n",
       "</tr>\n",
       "<tr>\n",
       "  <th>grade_13 Mansion</th>    <td> 2.014e+06</td> <td> 6.37e+04</td> <td>   31.604</td> <td> 0.000</td> <td> 1.89e+06</td> <td> 2.14e+06</td>\n",
       "</tr>\n",
       "<tr>\n",
       "  <th>grade_3 Poor</th>        <td>-4.897e+05</td> <td> 2.25e+05</td> <td>   -2.177</td> <td> 0.030</td> <td>-9.31e+05</td> <td>-4.88e+04</td>\n",
       "</tr>\n",
       "<tr>\n",
       "  <th>grade_4 Low</th>         <td>-4.331e+05</td> <td> 4.45e+04</td> <td>   -9.740</td> <td> 0.000</td> <td> -5.2e+05</td> <td>-3.46e+05</td>\n",
       "</tr>\n",
       "<tr>\n",
       "  <th>grade_5 Fair</th>        <td>-4.564e+05</td> <td> 1.75e+04</td> <td>  -26.043</td> <td> 0.000</td> <td>-4.91e+05</td> <td>-4.22e+05</td>\n",
       "</tr>\n",
       "<tr>\n",
       "  <th>grade_6 Low Average</th> <td>-4.246e+05</td> <td> 1.08e+04</td> <td>  -39.394</td> <td> 0.000</td> <td>-4.46e+05</td> <td>-4.03e+05</td>\n",
       "</tr>\n",
       "<tr>\n",
       "  <th>grade_7 Average</th>     <td>-3.869e+05</td> <td> 8935.479</td> <td>  -43.298</td> <td> 0.000</td> <td>-4.04e+05</td> <td>-3.69e+05</td>\n",
       "</tr>\n",
       "<tr>\n",
       "  <th>grade_8 Good</th>        <td>-3.157e+05</td> <td> 8217.580</td> <td>  -38.420</td> <td> 0.000</td> <td>-3.32e+05</td> <td>   -3e+05</td>\n",
       "</tr>\n",
       "<tr>\n",
       "  <th>grade_9 Better</th>      <td>-1.853e+05</td> <td> 8213.192</td> <td>  -22.562</td> <td> 0.000</td> <td>-2.01e+05</td> <td>-1.69e+05</td>\n",
       "</tr>\n",
       "<tr>\n",
       "  <th>condition_Good</th>      <td>  5.78e+04</td> <td> 3703.208</td> <td>   15.609</td> <td> 0.000</td> <td> 5.05e+04</td> <td> 6.51e+04</td>\n",
       "</tr>\n",
       "<tr>\n",
       "  <th>condition_Very Good</th> <td> 1.408e+05</td> <td> 5886.126</td> <td>   23.924</td> <td> 0.000</td> <td> 1.29e+05</td> <td> 1.52e+05</td>\n",
       "</tr>\n",
       "<tr>\n",
       "  <th>waterfront_YES</th>      <td> 6.836e+05</td> <td> 1.77e+04</td> <td>   38.540</td> <td> 0.000</td> <td> 6.49e+05</td> <td> 7.18e+05</td>\n",
       "</tr>\n",
       "</table>\n",
       "<table class=\"simpletable\">\n",
       "<tr>\n",
       "  <th>Omnibus:</th>       <td>11657.776</td> <th>  Durbin-Watson:     </th>  <td>   1.984</td> \n",
       "</tr>\n",
       "<tr>\n",
       "  <th>Prob(Omnibus):</th>  <td> 0.000</td>   <th>  Jarque-Bera (JB):  </th> <td>296624.447</td>\n",
       "</tr>\n",
       "<tr>\n",
       "  <th>Skew:</th>           <td> 2.083</td>   <th>  Prob(JB):          </th>  <td>    0.00</td> \n",
       "</tr>\n",
       "<tr>\n",
       "  <th>Kurtosis:</th>       <td>20.671</td>   <th>  Cond. No.          </th>  <td>4.43e+06</td> \n",
       "</tr>\n",
       "</table><br/><br/>Notes:<br/>[1] Standard Errors assume that the covariance matrix of the errors is correctly specified.<br/>[2] The condition number is large, 4.43e+06. This might indicate that there are<br/>strong multicollinearity or other numerical problems."
      ],
      "text/plain": [
       "<class 'statsmodels.iolib.summary.Summary'>\n",
       "\"\"\"\n",
       "                            OLS Regression Results                            \n",
       "==============================================================================\n",
       "Dep. Variable:                  price   R-squared:                       0.626\n",
       "Model:                            OLS   Adj. R-squared:                  0.626\n",
       "Method:                 Least Squares   F-statistic:                     2010.\n",
       "Date:                Sun, 08 Oct 2023   Prob (F-statistic):               0.00\n",
       "Time:                        22:31:14   Log-Likelihood:            -2.9676e+05\n",
       "No. Observations:               21597   AIC:                         5.936e+05\n",
       "Df Residuals:                   21578   BIC:                         5.937e+05\n",
       "Df Model:                          18                                         \n",
       "Covariance Type:            nonrobust                                         \n",
       "=======================================================================================\n",
       "                          coef    std err          t      P>|t|      [0.025      0.975]\n",
       "---------------------------------------------------------------------------------------\n",
       "const                5.633e+05   1.33e+04     42.511      0.000    5.37e+05    5.89e+05\n",
       "bedrooms            -2.335e+04   2148.636    -10.870      0.000   -2.76e+04   -1.91e+04\n",
       "bathrooms            1735.7105   3429.144      0.506      0.613   -4985.665    8457.086\n",
       "sqft_living           169.1690      3.512     48.165      0.000     162.285     176.053\n",
       "floors              -9026.5183   3536.505     -2.552      0.011    -1.6e+04   -2094.707\n",
       "sqft_lot15             -0.7605      0.058    -13.200      0.000      -0.873      -0.648\n",
       "grade_11 Excellent   2.763e+05   1.33e+04     20.748      0.000     2.5e+05    3.02e+05\n",
       "grade_12 Luxury      7.624e+05   2.54e+04     30.001      0.000    7.13e+05    8.12e+05\n",
       "grade_13 Mansion     2.014e+06   6.37e+04     31.604      0.000    1.89e+06    2.14e+06\n",
       "grade_3 Poor        -4.897e+05   2.25e+05     -2.177      0.030   -9.31e+05   -4.88e+04\n",
       "grade_4 Low         -4.331e+05   4.45e+04     -9.740      0.000    -5.2e+05   -3.46e+05\n",
       "grade_5 Fair        -4.564e+05   1.75e+04    -26.043      0.000   -4.91e+05   -4.22e+05\n",
       "grade_6 Low Average -4.246e+05   1.08e+04    -39.394      0.000   -4.46e+05   -4.03e+05\n",
       "grade_7 Average     -3.869e+05   8935.479    -43.298      0.000   -4.04e+05   -3.69e+05\n",
       "grade_8 Good        -3.157e+05   8217.580    -38.420      0.000   -3.32e+05      -3e+05\n",
       "grade_9 Better      -1.853e+05   8213.192    -22.562      0.000   -2.01e+05   -1.69e+05\n",
       "condition_Good        5.78e+04   3703.208     15.609      0.000    5.05e+04    6.51e+04\n",
       "condition_Very Good  1.408e+05   5886.126     23.924      0.000    1.29e+05    1.52e+05\n",
       "waterfront_YES       6.836e+05   1.77e+04     38.540      0.000    6.49e+05    7.18e+05\n",
       "==============================================================================\n",
       "Omnibus:                    11657.776   Durbin-Watson:                   1.984\n",
       "Prob(Omnibus):                  0.000   Jarque-Bera (JB):           296624.447\n",
       "Skew:                           2.083   Prob(JB):                         0.00\n",
       "Kurtosis:                      20.671   Cond. No.                     4.43e+06\n",
       "==============================================================================\n",
       "\n",
       "Notes:\n",
       "[1] Standard Errors assume that the covariance matrix of the errors is correctly specified.\n",
       "[2] The condition number is large, 4.43e+06. This might indicate that there are\n",
       "strong multicollinearity or other numerical problems.\n",
       "\"\"\""
      ]
     },
     "execution_count": 33,
     "metadata": {},
     "output_type": "execute_result"
    }
   ],
   "source": [
    "model_2 = sm.OLS(y,sm.add_constant(X_new))\n",
    "results_2 = model_2.fit()\n",
    "results_2.summary()"
   ]
  },
  {
   "cell_type": "markdown",
   "metadata": {},
   "source": [
    "> This looks good.\n",
    "\n",
    "\n",
    "Compared to our previous model, the F-statistic is high show statistical significant Model."
   ]
  },
  {
   "cell_type": "markdown",
   "metadata": {},
   "source": [
    "Lets Check For the remaining Two Assumptions.\n",
    "* Normality of residuals\n",
    "* Homescedasticity.\n"
   ]
  },
  {
   "cell_type": "markdown",
   "metadata": {},
   "source": [
    "# Interpreting our Model"
   ]
  },
  {
   "cell_type": "markdown",
   "metadata": {},
   "source": [
    "#### R-Squared: Indicates that 63% of the Target variable can be explained by our model.\n",
    "\n",
    "#### High F-statistic of 2010 and pvalue below 0.05 indicates that our model is statistically significant in predicting the target variable.\n",
    "\n",
    "#### Const: Intercept is 5.633e+05. When all the other predictors are 0.The house price is $563300.\n",
    "\n",
    "####  For each additional bedroom, the house price decreases by approximately $23,350.\n",
    "\n",
    "#### For each additional bathroom, the house price increases by approximately $1735.\n",
    "\n",
    "#### For each additional of one square footage of living space, the price is set to increase by $169.\n",
    "\n",
    "#### For each additional floor in the house the price is set to decrease by about $9027.\n",
    "\n",
    "#### For Houses with grade_11 (Execellent), its price is set to increase by $276300 compared to other grades.\n",
    "\n",
    "#### Houses with good condition are set to increase by about  $57800.\n",
    "\n",
    "#### Houses with very good condition are set to increse by about $140800\n",
    "\n",
    "#### Houses with waterfront are set to increase by about $683600 than houses without waterfront"
   ]
  },
  {
   "cell_type": "markdown",
   "metadata": {},
   "source": [
    "### Normality of errors ( Residuals )"
   ]
  },
  {
   "cell_type": "code",
   "execution_count": 34,
   "metadata": {},
   "outputs": [
    {
     "data": {
      "image/png": "[encoded data removed]",
      "text/plain": [
       "<Figure size 720x576 with 1 Axes>"
      ]
     },
     "metadata": {
      "needs_background": "light"
     },
     "output_type": "display_data"
    }
   ],
   "source": [
    "fig,ax = plt.subplots(figsize = (10,8))\n",
    "sns.histplot(results_2.resid,ax=ax,kde=True,alpha=0.5,color='red')\n",
    "ax.axvline(x=0,alpha=0.9,color='black')\n",
    "plt.savefig('Normality of errors')\n",
    "plt.show()\n"
   ]
  },
  {
   "cell_type": "markdown",
   "metadata": {},
   "source": [
    "> the errors follow a normal distribution.Justified by the bell curve and the mean situated around 0 with the errors \n",
    "1 standard deviation away from the mean. Meaning Approximately 68% of the data falls within one standard deviation of the mean,which is proves the assumption in our case."
   ]
  },
  {
   "cell_type": "markdown",
   "metadata": {},
   "source": [
    "#### Last asuumption, Homoscedasticity."
   ]
  },
  {
   "cell_type": "markdown",
   "metadata": {},
   "source": [
    "### Homoscedasticity"
   ]
  },
  {
   "cell_type": "code",
   "execution_count": 35,
   "metadata": {},
   "outputs": [],
   "source": [
    "from statsmodels.stats.diagnostic import het_breuschpagan"
   ]
  },
  {
   "cell_type": "code",
   "execution_count": 36,
   "metadata": {},
   "outputs": [
    {
     "name": "stderr",
     "output_type": "stream",
     "text": [
      "C:\\Users\\hp\\anaconda3\\envs\\learn-env\\lib\\site-packages\\statsmodels\\tsa\\tsatools.py:142: FutureWarning: In a future version of pandas all arguments of concat except for the argument 'objs' will be keyword-only.\n",
      "  x = pd.concat(x[::order], 1)\n"
     ]
    }
   ],
   "source": [
    "homo_result = het_breuschpagan(results_2.resid, sm.add_constant(X_new))"
   ]
  },
  {
   "cell_type": "code",
   "execution_count": 37,
   "metadata": {},
   "outputs": [
    {
     "name": "stdout",
     "output_type": "stream",
     "text": [
      "Lagrange multiplier statistic: 4595.046421005922 \n",
      "Lagrange multiplier p-value: 0.0\n",
      "Breusch-Pagan test statistic: 323.9886235288215\n",
      "Breusch-Pagan test p-value: 0.0\n"
     ]
    }
   ],
   "source": [
    "print(f'Lagrange multiplier statistic: {homo_result[0]} ')\n",
    "print(f'Lagrange multiplier p-value: {homo_result[1]}')\n",
    "print(f'Breusch-Pagan test statistic: {homo_result[2]}')\n",
    "print(f'Breusch-Pagan test p-value: {homo_result[3]}')\n",
    "\n"
   ]
  },
  {
   "cell_type": "markdown",
   "metadata": {},
   "source": [
    "> the pvalues below our statistical significant alpha of 0.05 indicates we reject the null hypothesis for **Breusch-Pagan Test** and conclude that there is heteroscedasticity in our errors."
   ]
  },
  {
   "cell_type": "markdown",
   "metadata": {},
   "source": [
    "### Visualization of the residuals"
   ]
  },
  {
   "cell_type": "code",
   "execution_count": 38,
   "metadata": {},
   "outputs": [
    {
     "data": {
      "image/png": "[encoded data removed]",
      "text/plain": [
       "<Figure size 432x288 with 1 Axes>"
      ]
     },
     "metadata": {
      "needs_background": "light"
     },
     "output_type": "display_data"
    }
   ],
   "source": [
    "residuals = results_2.resid\n",
    "fitted_values = results_2.fittedvalues\n",
    "\n",
    "plt.scatter(fitted_values, residuals,alpha=0.6,color='red')\n",
    "plt.xlabel('Fitted Values')\n",
    "plt.ylabel('Residuals')\n",
    "plt.axhline(y=0, color='black', linestyle='-',alpha=1)\n",
    "plt.title('Residuals vs. Fitted Values')\n",
    "plt.savefig('Checking for Homoscedasticity')\n",
    "plt.show()"
   ]
  },
  {
   "cell_type": "markdown",
   "metadata": {},
   "source": [
    "> Most of the residuals are situated around 0. Our model is biased and  our coefficients will be less precise in actually predicting our target Variable(price)"
   ]
  }
 ],
 "metadata": {
  "kernelspec": {
   "display_name": "Python (learn-env)",
   "language": "python",
   "name": "learn-env"
  },
  "language_info": {
   "codemirror_mode": {
    "name": "ipython",
    "version": 3
   },
   "file_extension": ".py",
   "mimetype": "text/x-python",
   "name": "python",
   "nbconvert_exporter": "python",
   "pygments_lexer": "ipython3",
   "version": "3.8.5"
  }
 },
 "nbformat": 4,
 "nbformat_minor": 4
}
